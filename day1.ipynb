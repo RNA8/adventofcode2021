{
 "cells": [
  {
   "cell_type": "code",
   "execution_count": 1,
   "id": "80ac805c",
   "metadata": {},
   "outputs": [],
   "source": [
    "import os\n",
    "import aocd\n",
    "from aocd.models import Puzzle\n",
    "from aocd import submit"
   ]
  },
  {
   "cell_type": "code",
   "execution_count": 2,
   "id": "ca698f8a",
   "metadata": {},
   "outputs": [],
   "source": [
    "current_day = 1\n",
    "current_year = 2021"
   ]
  },
  {
   "cell_type": "code",
   "execution_count": 3,
   "id": "ac53ff4c",
   "metadata": {},
   "outputs": [],
   "source": [
    "# input_file = f\"input/input_day{current_day}_{current_year}.txt\"\n",
    "# os.system(f'aocd {current_day} {current_year} > {input_file}')\n",
    "\n",
    "# with open(input_file,'r') as fid:\n",
    "#     data = fid.read().splitlines()\n",
    "# data"
   ]
  },
  {
   "cell_type": "code",
   "execution_count": 4,
   "id": "464e27b4",
   "metadata": {},
   "outputs": [],
   "source": [
    "puzzle = Puzzle(year=current_year, day=current_day)"
   ]
  },
  {
   "cell_type": "code",
   "execution_count": 5,
   "id": "fd7c96e5",
   "metadata": {},
   "outputs": [
    {
     "data": {
      "text/plain": [
       "<Puzzle(2021, 1) at 0x7fcd0865e640 - Sonar Sweep>"
      ]
     },
     "execution_count": 5,
     "metadata": {},
     "output_type": "execute_result"
    }
   ],
   "source": [
    "puzzle"
   ]
  },
  {
   "cell_type": "code",
   "execution_count": 6,
   "id": "556ad1df",
   "metadata": {},
   "outputs": [],
   "source": [
    "import numpy as np"
   ]
  },
  {
   "cell_type": "markdown",
   "id": "a4447e93",
   "metadata": {},
   "source": [
    "# Part 1"
   ]
  },
  {
   "cell_type": "code",
   "execution_count": 7,
   "id": "4d5a1bcf",
   "metadata": {},
   "outputs": [
    {
     "data": {
      "text/plain": [
       "1288"
      ]
     },
     "execution_count": 7,
     "metadata": {},
     "output_type": "execute_result"
    }
   ],
   "source": [
    "np.sum(np.diff(np.int32(puzzle.input_data.splitlines()))>0)"
   ]
  },
  {
   "cell_type": "code",
   "execution_count": 8,
   "id": "eb7cbe1c",
   "metadata": {},
   "outputs": [],
   "source": [
    "puzzle.answer_a = 1288"
   ]
  },
  {
   "cell_type": "markdown",
   "id": "2628ea09",
   "metadata": {},
   "source": [
    "# Part 2"
   ]
  },
  {
   "cell_type": "code",
   "execution_count": 9,
   "id": "525b0055",
   "metadata": {},
   "outputs": [],
   "source": [
    "data = np.int32(puzzle.input_data.splitlines())"
   ]
  },
  {
   "cell_type": "code",
   "execution_count": 10,
   "id": "6332d1ec",
   "metadata": {},
   "outputs": [],
   "source": [
    "move_ave = np.lib.stride_tricks.sliding_window_view(data,(3,)).sum(axis=1)"
   ]
  },
  {
   "cell_type": "code",
   "execution_count": 11,
   "id": "ed97e8d1",
   "metadata": {},
   "outputs": [
    {
     "data": {
      "text/plain": [
       "1311"
      ]
     },
     "execution_count": 11,
     "metadata": {},
     "output_type": "execute_result"
    }
   ],
   "source": [
    "np.sum(np.diff(move_ave)>0)"
   ]
  },
  {
   "cell_type": "code",
   "execution_count": 12,
   "id": "1b242738",
   "metadata": {},
   "outputs": [],
   "source": [
    "puzzle.answer_b = 1311"
   ]
  }
 ],
 "metadata": {
  "kernelspec": {
   "display_name": "Python 3",
   "language": "python",
   "name": "python3"
  },
  "language_info": {
   "codemirror_mode": {
    "name": "ipython",
    "version": 3
   },
   "file_extension": ".py",
   "mimetype": "text/x-python",
   "name": "python",
   "nbconvert_exporter": "python",
   "pygments_lexer": "ipython3",
   "version": "3.8.8"
  }
 },
 "nbformat": 4,
 "nbformat_minor": 5
}
