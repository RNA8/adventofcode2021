{
 "cells": [
  {
   "cell_type": "code",
   "execution_count": 1,
   "id": "80ac805c",
   "metadata": {},
   "outputs": [],
   "source": [
    "import os\n",
    "import numpy as np\n",
    "import aocd\n",
    "from aocd.models import Puzzle\n",
    "from aocd import submit"
   ]
  },
  {
   "cell_type": "code",
   "execution_count": 2,
   "id": "ca698f8a",
   "metadata": {},
   "outputs": [
    {
     "data": {
      "text/plain": [
       "<Puzzle(2021, 11) at 0x7ffe1160e100 - Dumbo Octopus>"
      ]
     },
     "execution_count": 2,
     "metadata": {},
     "output_type": "execute_result"
    }
   ],
   "source": [
    "current_day = 11\n",
    "current_year = 2021\n",
    "puzzle = Puzzle(year=current_year, day=current_day)\n",
    "puzzle"
   ]
  },
  {
   "cell_type": "code",
   "execution_count": 3,
   "id": "6d6ec226",
   "metadata": {},
   "outputs": [
    {
     "data": {
      "text/plain": [
       "['3265255276',\n",
       " '1537412665',\n",
       " '7335746422',\n",
       " '6426325658',\n",
       " '3854434364',\n",
       " '8717377486',\n",
       " '4522286326',\n",
       " '6337772845',\n",
       " '8824387665',\n",
       " '6351586484']"
      ]
     },
     "execution_count": 3,
     "metadata": {},
     "output_type": "execute_result"
    }
   ],
   "source": [
    "data = puzzle.input_data.splitlines()\n",
    "data"
   ]
  },
  {
   "cell_type": "markdown",
   "id": "a4447e93",
   "metadata": {},
   "source": [
    "# Part 1"
   ]
  },
  {
   "cell_type": "code",
   "execution_count": 4,
   "id": "bfb4c13b",
   "metadata": {},
   "outputs": [],
   "source": [
    "test_input1 = \"\"\"11111\n",
    "19991\n",
    "19191\n",
    "19991\n",
    "11111\"\"\".splitlines()\n",
    "test_input2 = \"\"\"5483143223\n",
    "2745854711\n",
    "5264556173\n",
    "6141336146\n",
    "6357385478\n",
    "4167524645\n",
    "2176841721\n",
    "6882881134\n",
    "4846848554\n",
    "5283751526\"\"\".splitlines()"
   ]
  },
  {
   "cell_type": "code",
   "execution_count": 9,
   "id": "1194bd01",
   "metadata": {},
   "outputs": [],
   "source": [
    "from collections import deque"
   ]
  },
  {
   "cell_type": "code",
   "execution_count": 46,
   "id": "4d5a1bcf",
   "metadata": {},
   "outputs": [],
   "source": [
    "def process_input(input_data, num_steps):\n",
    "    data = np.array([list(map(int,line)) \n",
    "                     for line in input_data])\n",
    "    rows,cols = data.shape\n",
    "    num_flashes = 0\n",
    "    for step in range(num_steps):\n",
    "        data += 1\n",
    "        seen = set()\n",
    "        queue = deque(list(zip(*np.nonzero(data>9))))\n",
    "        while queue:\n",
    "            i,j = queue.popleft()\n",
    "            if (i,j) in seen:\n",
    "                continue\n",
    "            seen.add((i,j))\n",
    "            for ii in range(max(i-1,0),min(i+2,rows)):\n",
    "                for jj in range(max(j-1,0),min(j+2,cols)):\n",
    "                    if (ii,jj) not in seen:\n",
    "                        data[ii,jj] += 1\n",
    "                        if data[ii,jj] > 9:\n",
    "                            queue.append((ii,jj))\n",
    "        num_flashes += len(seen)\n",
    "        if len(seen) == rows*cols:\n",
    "            print(step+1)\n",
    "            return\n",
    "        for i,j in list(seen):\n",
    "            data[i,j] = 0\n",
    "    return data, num_flashes"
   ]
  },
  {
   "cell_type": "code",
   "execution_count": 47,
   "id": "c9124d96",
   "metadata": {},
   "outputs": [
    {
     "data": {
      "text/plain": [
       "(array([[4, 5, 6, 5, 4],\n",
       "        [5, 1, 1, 1, 5],\n",
       "        [6, 1, 1, 1, 6],\n",
       "        [5, 1, 1, 1, 5],\n",
       "        [4, 5, 6, 5, 4]]),\n",
       " 9)"
      ]
     },
     "execution_count": 47,
     "metadata": {},
     "output_type": "execute_result"
    }
   ],
   "source": [
    "process_input(test_input1,2)"
   ]
  },
  {
   "cell_type": "code",
   "execution_count": 48,
   "id": "d03e8e9d",
   "metadata": {},
   "outputs": [
    {
     "data": {
      "text/plain": [
       "(array([[0, 3, 9, 7, 6, 6, 6, 8, 6, 6],\n",
       "        [0, 7, 4, 9, 7, 6, 6, 9, 1, 8],\n",
       "        [0, 0, 5, 3, 9, 7, 6, 9, 3, 3],\n",
       "        [0, 0, 0, 4, 2, 9, 7, 8, 2, 2],\n",
       "        [0, 0, 0, 4, 2, 2, 9, 8, 9, 2],\n",
       "        [0, 0, 5, 3, 2, 2, 2, 8, 7, 7],\n",
       "        [0, 5, 3, 2, 2, 2, 2, 9, 6, 6],\n",
       "        [9, 3, 2, 2, 2, 2, 8, 9, 6, 6],\n",
       "        [7, 9, 2, 2, 2, 8, 6, 8, 6, 6],\n",
       "        [6, 7, 8, 9, 9, 9, 8, 7, 6, 6]]),\n",
       " 1656)"
      ]
     },
     "execution_count": 48,
     "metadata": {},
     "output_type": "execute_result"
    }
   ],
   "source": [
    "process_input(test_input2,100)"
   ]
  },
  {
   "cell_type": "code",
   "execution_count": 49,
   "id": "aba13f89",
   "metadata": {},
   "outputs": [
    {
     "data": {
      "text/plain": [
       "(array([[4, 4, 5, 7, 0, 0, 0, 0, 2, 1],\n",
       "        [4, 5, 7, 2, 3, 4, 4, 3, 2, 1],\n",
       "        [5, 7, 1, 1, 1, 1, 1, 1, 1, 8],\n",
       "        [7, 2, 1, 1, 1, 1, 1, 1, 2, 8],\n",
       "        [0, 4, 2, 1, 2, 3, 4, 4, 5, 0],\n",
       "        [0, 0, 5, 4, 5, 0, 0, 0, 0, 0],\n",
       "        [0, 0, 0, 0, 0, 0, 0, 0, 0, 0],\n",
       "        [0, 0, 0, 0, 0, 0, 0, 0, 0, 0],\n",
       "        [0, 0, 0, 0, 0, 0, 0, 0, 0, 0],\n",
       "        [0, 0, 0, 0, 0, 0, 0, 0, 0, 9]]),\n",
       " 1627)"
      ]
     },
     "execution_count": 49,
     "metadata": {},
     "output_type": "execute_result"
    }
   ],
   "source": [
    "process_input(data,100)"
   ]
  },
  {
   "cell_type": "code",
   "execution_count": 41,
   "id": "eb7cbe1c",
   "metadata": {},
   "outputs": [
    {
     "name": "stdout",
     "output_type": "stream",
     "text": [
      "\u001b[32mThat's the right answer!  You are one gold star closer to finding the sleigh keys. [Continue to Part Two]\u001b[0m\n"
     ]
    }
   ],
   "source": [
    "puzzle.answer_a = 1627"
   ]
  },
  {
   "cell_type": "markdown",
   "id": "2628ea09",
   "metadata": {},
   "source": [
    "# Part 2"
   ]
  },
  {
   "cell_type": "code",
   "execution_count": 50,
   "id": "525b0055",
   "metadata": {},
   "outputs": [
    {
     "name": "stdout",
     "output_type": "stream",
     "text": [
      "195\n"
     ]
    }
   ],
   "source": [
    "process_input(test_input2,200)"
   ]
  },
  {
   "cell_type": "code",
   "execution_count": 51,
   "id": "c9707330",
   "metadata": {},
   "outputs": [
    {
     "name": "stdout",
     "output_type": "stream",
     "text": [
      "329\n"
     ]
    }
   ],
   "source": [
    "process_input(data,1000)"
   ]
  },
  {
   "cell_type": "code",
   "execution_count": 52,
   "id": "1b242738",
   "metadata": {},
   "outputs": [
    {
     "name": "stdout",
     "output_type": "stream",
     "text": [
      "\u001b[32mThat's the right answer!  You are one gold star closer to finding the sleigh keys.You have completed Day 11! You can [Shareon\n",
      "  Twitter\n",
      "Mastodon] this victory or [Return to Your Advent Calendar].\u001b[0m\n"
     ]
    }
   ],
   "source": [
    "puzzle.answer_b = 329"
   ]
  },
  {
   "cell_type": "code",
   "execution_count": null,
   "id": "f962e6cb",
   "metadata": {},
   "outputs": [],
   "source": []
  }
 ],
 "metadata": {
  "kernelspec": {
   "display_name": "Python 3 (ipykernel)",
   "language": "python",
   "name": "python3"
  },
  "language_info": {
   "codemirror_mode": {
    "name": "ipython",
    "version": 3
   },
   "file_extension": ".py",
   "mimetype": "text/x-python",
   "name": "python",
   "nbconvert_exporter": "python",
   "pygments_lexer": "ipython3",
   "version": "3.9.7"
  }
 },
 "nbformat": 4,
 "nbformat_minor": 5
}
