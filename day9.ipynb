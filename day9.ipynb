{
 "cells": [
  {
   "cell_type": "code",
   "execution_count": 1,
   "id": "80ac805c",
   "metadata": {},
   "outputs": [],
   "source": [
    "import os\n",
    "import numpy as np\n",
    "import aocd\n",
    "from aocd.models import Puzzle\n",
    "from aocd import submit"
   ]
  },
  {
   "cell_type": "code",
   "execution_count": 2,
   "id": "ca698f8a",
   "metadata": {},
   "outputs": [
    {
     "data": {
      "text/plain": [
       "<Puzzle(2021, 9) at 0x7fb849ece220 - Smoke Basin>"
      ]
     },
     "execution_count": 2,
     "metadata": {},
     "output_type": "execute_result"
    }
   ],
   "source": [
    "current_day = 9\n",
    "current_year = 2021\n",
    "puzzle = Puzzle(year=current_year, day=current_day)\n",
    "puzzle"
   ]
  },
  {
   "cell_type": "code",
   "execution_count": 53,
   "id": "c9ccf31d",
   "metadata": {},
   "outputs": [
    {
     "data": {
      "text/plain": [
       "array([[2, 1, 9, 9, 9, 4, 3, 2, 1, 0],\n",
       "       [3, 9, 8, 7, 8, 9, 4, 9, 2, 1],\n",
       "       [9, 8, 5, 6, 7, 8, 9, 8, 9, 2],\n",
       "       [8, 7, 6, 7, 8, 9, 6, 7, 8, 9],\n",
       "       [9, 8, 9, 9, 9, 6, 5, 6, 7, 8]], dtype=int32)"
      ]
     },
     "execution_count": 53,
     "metadata": {},
     "output_type": "execute_result"
    }
   ],
   "source": [
    "data = \"\"\"2199943210\n",
    "3987894921\n",
    "9856789892\n",
    "8767896789\n",
    "9899965678\"\"\"\n",
    "htmap = np.array([list(x) for x in data.splitlines()], dtype='int32')\n",
    "htmap"
   ]
  },
  {
   "cell_type": "code",
   "execution_count": 64,
   "id": "81560252",
   "metadata": {},
   "outputs": [],
   "source": [
    "htmap = np.array([list(x) for x in puzzle.input_data.splitlines()], dtype='int32')"
   ]
  },
  {
   "cell_type": "markdown",
   "id": "a4447e93",
   "metadata": {},
   "source": [
    "# Part 1"
   ]
  },
  {
   "cell_type": "code",
   "execution_count": 22,
   "id": "4d5a1bcf",
   "metadata": {},
   "outputs": [
    {
     "data": {
      "text/plain": [
       "591"
      ]
     },
     "execution_count": 22,
     "metadata": {},
     "output_type": "execute_result"
    }
   ],
   "source": [
    "risk_total = 0\n",
    "offsets = [(-1,0),(+1,0),(0,-1),(0,+1)]\n",
    "rows, cols = htmap.shape\n",
    "for row in range(rows):\n",
    "    for col in range(cols):\n",
    "        adjacent_min = min(htmap[row+i,col+j]\n",
    "                           for i,j in offsets\n",
    "                           if 0 <= row+i < rows and 0 <= col+j < cols)\n",
    "        if htmap[row,col] < adjacent_min:\n",
    "            risk_total += htmap[row,col] + 1\n",
    "risk_total"
   ]
  },
  {
   "cell_type": "code",
   "execution_count": 23,
   "id": "eb7cbe1c",
   "metadata": {},
   "outputs": [
    {
     "name": "stdout",
     "output_type": "stream",
     "text": [
      "\u001b[32mThat's the right answer!  You are one gold star closer to finding the sleigh keys. [Continue to Part Two]\u001b[0m\n"
     ]
    }
   ],
   "source": [
    "puzzle.answer_a = risk_total"
   ]
  },
  {
   "cell_type": "markdown",
   "id": "2628ea09",
   "metadata": {},
   "source": [
    "# Part 2"
   ]
  },
  {
   "cell_type": "code",
   "execution_count": 65,
   "id": "525b0055",
   "metadata": {},
   "outputs": [
    {
     "data": {
      "text/plain": [
       "230"
      ]
     },
     "execution_count": 65,
     "metadata": {},
     "output_type": "execute_result"
    }
   ],
   "source": [
    "low_points = []\n",
    "offsets = [(-1,0),(+1,0),(0,-1),(0,+1)]\n",
    "rows, cols = htmap.shape\n",
    "htmap_bin = np.zeros(htmap.shape, dtype=int)\n",
    "for row in range(rows):\n",
    "    for col in range(cols):\n",
    "        adjacent_min = min(htmap[row+i,col+j]\n",
    "                           for i,j in offsets\n",
    "                           if 0 <= row+i < rows and 0 <= col+j < cols)\n",
    "        if htmap[row,col] < adjacent_min:\n",
    "            low_points.append((row,col))\n",
    "len(low_points)"
   ]
  },
  {
   "cell_type": "code",
   "execution_count": 66,
   "id": "6edf8261",
   "metadata": {},
   "outputs": [],
   "source": [
    "def dfs(grid,r,c):\n",
    "    grid[r,c] = 0\n",
    "    if r-1 >= 0 and grid[r-1,c]:\n",
    "        dfs(grid,r-1,c)\n",
    "    if r+1 < rows and grid[r+1,c]:\n",
    "        dfs(grid,r+1,c)\n",
    "    if c-1 >= 0 and grid[r,c-1]:\n",
    "        dfs(grid,r,c-1)\n",
    "    if c+1 < cols and grid[r,c+1]:\n",
    "        dfs(grid,r,c+1)\n",
    "    return\n",
    "    "
   ]
  },
  {
   "cell_type": "code",
   "execution_count": 67,
   "id": "ac79dadf",
   "metadata": {},
   "outputs": [],
   "source": [
    "island_sizes = []\n",
    "htmap_bin = (htmap<9).astype('int')\n",
    "prev_sum = htmap_bin.sum()\n",
    "for row in range(rows):\n",
    "    for col in range(cols):\n",
    "        if htmap_bin[row,col]:\n",
    "            dfs(htmap_bin,row,col)\n",
    "            prev_sum, island_size = htmap_bin.sum(), prev_sum - htmap_bin.sum()\n",
    "            island_sizes.append(island_size)"
   ]
  },
  {
   "cell_type": "code",
   "execution_count": 71,
   "id": "012376cf",
   "metadata": {},
   "outputs": [
    {
     "data": {
      "text/plain": [
       "1113424"
      ]
     },
     "execution_count": 71,
     "metadata": {},
     "output_type": "execute_result"
    }
   ],
   "source": [
    "np.prod(sorted(island_sizes)[-3:])"
   ]
  },
  {
   "cell_type": "code",
   "execution_count": 72,
   "id": "1b242738",
   "metadata": {},
   "outputs": [
    {
     "name": "stdout",
     "output_type": "stream",
     "text": [
      "\u001b[32mThat's the right answer!  You are one gold star closer to finding the sleigh keys. You got rank 998 on this star's leaderboard.You have completed Day 9! You can [Shareon\n",
      "  Twitter\n",
      "Mastodon] this victory or [Return to Your Advent Calendar].\u001b[0m\n"
     ]
    }
   ],
   "source": [
    "puzzle.answer_b = 1113424"
   ]
  },
  {
   "cell_type": "code",
   "execution_count": null,
   "id": "bbc9c612",
   "metadata": {},
   "outputs": [],
   "source": []
  }
 ],
 "metadata": {
  "kernelspec": {
   "display_name": "Python 3 (ipykernel)",
   "language": "python",
   "name": "python3"
  },
  "language_info": {
   "codemirror_mode": {
    "name": "ipython",
    "version": 3
   },
   "file_extension": ".py",
   "mimetype": "text/x-python",
   "name": "python",
   "nbconvert_exporter": "python",
   "pygments_lexer": "ipython3",
   "version": "3.9.7"
  }
 },
 "nbformat": 4,
 "nbformat_minor": 5
}
