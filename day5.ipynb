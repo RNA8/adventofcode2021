{
 "cells": [
  {
   "cell_type": "code",
   "execution_count": 1,
   "id": "80ac805c",
   "metadata": {},
   "outputs": [],
   "source": [
    "import os\n",
    "import numpy as np\n",
    "import aocd\n",
    "from aocd.models import Puzzle\n",
    "from aocd import submit"
   ]
  },
  {
   "cell_type": "code",
   "execution_count": 2,
   "id": "ca698f8a",
   "metadata": {},
   "outputs": [
    {
     "data": {
      "text/plain": [
       "<Puzzle(2021, 5) at 0x7f8939ece370 - Hydrothermal Venture>"
      ]
     },
     "execution_count": 2,
     "metadata": {},
     "output_type": "execute_result"
    }
   ],
   "source": [
    "current_day = 5\n",
    "current_year = 2021\n",
    "puzzle = Puzzle(year=current_year, day=current_day)\n",
    "puzzle"
   ]
  },
  {
   "cell_type": "markdown",
   "id": "a4447e93",
   "metadata": {},
   "source": [
    "# Part 1"
   ]
  },
  {
   "cell_type": "code",
   "execution_count": 6,
   "id": "4d5a1bcf",
   "metadata": {},
   "outputs": [
    {
     "data": {
      "text/plain": [
       "4826"
      ]
     },
     "execution_count": 6,
     "metadata": {},
     "output_type": "execute_result"
    }
   ],
   "source": [
    "from collections import defaultdict\n",
    "floormap = defaultdict(int)\n",
    "for line in puzzle.input_data.splitlines():\n",
    "    source, dest = line.split(' -> ')\n",
    "    source = np.int32(source.split(','))\n",
    "    dest = np.int32(dest.split(','))\n",
    "    if source[0] == dest[0]:\n",
    "        for y in range(min(source[1],dest[1]), max(source[1],dest[1])+1):\n",
    "            floormap[(source[0],y)] += 1\n",
    "    elif source[1] == dest[1]:\n",
    "        for x in range(min(source[0],dest[0]), max(source[0],dest[0])+1):\n",
    "            floormap[(x,source[1])] += 1\n",
    "result = sum(floormap[key]>=2 for key in floormap)\n",
    "result"
   ]
  },
  {
   "cell_type": "code",
   "execution_count": 7,
   "id": "eb7cbe1c",
   "metadata": {},
   "outputs": [
    {
     "name": "stdout",
     "output_type": "stream",
     "text": [
      "\u001b[32mThat's the right answer!  You are one gold star closer to finding the sleigh keys. You got rank 160 on this star's leaderboard. [Continue to Part Two]\u001b[0m\n"
     ]
    }
   ],
   "source": [
    "puzzle.answer_a = result"
   ]
  },
  {
   "cell_type": "markdown",
   "id": "2628ea09",
   "metadata": {},
   "source": [
    "# Part 2"
   ]
  },
  {
   "cell_type": "code",
   "execution_count": 16,
   "id": "c9707330",
   "metadata": {},
   "outputs": [
    {
     "data": {
      "text/plain": [
       "16793"
      ]
     },
     "execution_count": 16,
     "metadata": {},
     "output_type": "execute_result"
    }
   ],
   "source": [
    "from collections import defaultdict\n",
    "floormap = defaultdict(int)\n",
    "for line in puzzle.input_data.splitlines():\n",
    "    source, dest = line.split(' -> ')\n",
    "    source = np.int32(source.split(','))\n",
    "    dest = np.int32(dest.split(','))\n",
    "    if source[0] == dest[0]:\n",
    "        for y in range(min(source[1],dest[1]), max(source[1],dest[1])+1):\n",
    "            floormap[(source[0],y)] += 1\n",
    "    elif source[1] == dest[1]:\n",
    "        for x in range(min(source[0],dest[0]), max(source[0],dest[0])+1):\n",
    "            floormap[(x,source[1])] += 1\n",
    "    else:\n",
    "        length = abs(source[0] - dest[0])\n",
    "        dirn = ((dest[0]-source[0])//length, (dest[1]-source[1])//length)\n",
    "        for i in range(length+1):\n",
    "            floormap[(source[0] + i*dirn[0], source[1] + i*dirn[1])] += 1\n",
    "result = sum(floormap[key]>=2 for key in floormap)\n",
    "result"
   ]
  },
  {
   "cell_type": "code",
   "execution_count": 17,
   "id": "1b242738",
   "metadata": {},
   "outputs": [
    {
     "name": "stdout",
     "output_type": "stream",
     "text": [
      "\u001b[32mThat's the right answer!  You are one gold star closer to finding the sleigh keys. You got rank 395 on this star's leaderboard.You have completed Day 5! You can [Shareon\n",
      "  Twitter\n",
      "Mastodon] this victory or [Return to Your Advent Calendar].\u001b[0m\n"
     ]
    }
   ],
   "source": [
    "puzzle.answer_b = result"
   ]
  }
 ],
 "metadata": {
  "kernelspec": {
   "display_name": "Python 3 (ipykernel)",
   "language": "python",
   "name": "python3"
  },
  "language_info": {
   "codemirror_mode": {
    "name": "ipython",
    "version": 3
   },
   "file_extension": ".py",
   "mimetype": "text/x-python",
   "name": "python",
   "nbconvert_exporter": "python",
   "pygments_lexer": "ipython3",
   "version": "3.9.7"
  }
 },
 "nbformat": 4,
 "nbformat_minor": 5
}
