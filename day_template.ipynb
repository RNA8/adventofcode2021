{
 "cells": [
  {
   "cell_type": "code",
   "execution_count": 3,
   "id": "e7a5df2d",
   "metadata": {},
   "outputs": [],
   "source": [
    "import os\n",
    "import aocd\n",
    "from aocd.models import Puzzle\n",
    "from aocd import submit"
   ]
  },
  {
   "cell_type": "code",
   "execution_count": 4,
   "id": "3d3cc025",
   "metadata": {},
   "outputs": [],
   "source": [
    "current_day = 1\n",
    "current_year = 2021"
   ]
  },
  {
   "cell_type": "code",
   "execution_count": 6,
   "id": "acda95ba",
   "metadata": {},
   "outputs": [
    {
     "data": {
      "text/plain": [
       "0"
      ]
     },
     "execution_count": 6,
     "metadata": {},
     "output_type": "execute_result"
    }
   ],
   "source": [
    "input_file = f\"input/input_day{current_day}_{current_year}.txt\"\n",
    "os.system(f'aocd {current_day} {current_year} > {input_file}')"
   ]
  },
  {
   "cell_type": "code",
   "execution_count": null,
   "id": "2f1c47eb",
   "metadata": {},
   "outputs": [],
   "source": [
    "with open(current_input_file,'r') as fid:\n",
    "    data = fid.read().splitlines()\n",
    "data"
   ]
  },
  {
   "cell_type": "code",
   "execution_count": 7,
   "id": "6c220f76",
   "metadata": {},
   "outputs": [],
   "source": [
    "puzzle = Puzzle(year=current_year, day=current_day)"
   ]
  },
  {
   "cell_type": "code",
   "execution_count": 8,
   "id": "59db8d9f",
   "metadata": {},
   "outputs": [
    {
     "data": {
      "text/plain": [
       "<Puzzle(2021, 1) at 0x7fe06b65cdf0 - Sonar Sweep>"
      ]
     },
     "execution_count": 8,
     "metadata": {},
     "output_type": "execute_result"
    }
   ],
   "source": [
    "puzzle"
   ]
  },
  {
   "cell_type": "code",
   "execution_count": null,
   "id": "a9017ddc",
   "metadata": {},
   "outputs": [],
   "source": []
  },
  {
   "cell_type": "markdown",
   "id": "98eb220f",
   "metadata": {},
   "source": [
    "# Part 1"
   ]
  },
  {
   "cell_type": "code",
   "execution_count": null,
   "id": "e5ce2084",
   "metadata": {},
   "outputs": [],
   "source": []
  },
  {
   "cell_type": "code",
   "execution_count": null,
   "id": "3f6b0016",
   "metadata": {},
   "outputs": [],
   "source": []
  },
  {
   "cell_type": "code",
   "execution_count": null,
   "id": "8b8030f5",
   "metadata": {},
   "outputs": [],
   "source": [
    "submit(my_answer, part=\"a\", day=current_day, year=current_year)"
   ]
  },
  {
   "cell_type": "markdown",
   "id": "ac349c62",
   "metadata": {},
   "source": [
    "# Part 2"
   ]
  },
  {
   "cell_type": "code",
   "execution_count": null,
   "id": "11b090a1",
   "metadata": {},
   "outputs": [],
   "source": []
  },
  {
   "cell_type": "code",
   "execution_count": null,
   "id": "0e78b7c5",
   "metadata": {},
   "outputs": [],
   "source": []
  },
  {
   "cell_type": "code",
   "execution_count": null,
   "id": "889f8876",
   "metadata": {},
   "outputs": [],
   "source": []
  },
  {
   "cell_type": "code",
   "execution_count": null,
   "id": "b7cd2480",
   "metadata": {},
   "outputs": [],
   "source": []
  },
  {
   "cell_type": "code",
   "execution_count": null,
   "id": "f2de0483",
   "metadata": {},
   "outputs": [],
   "source": [
    "submit(my_answer, part=\"b\", day=current_day, year=current_year)"
   ]
  }
 ],
 "metadata": {
  "kernelspec": {
   "display_name": "Python 3",
   "language": "python",
   "name": "python3"
  },
  "language_info": {
   "codemirror_mode": {
    "name": "ipython",
    "version": 3
   },
   "file_extension": ".py",
   "mimetype": "text/x-python",
   "name": "python",
   "nbconvert_exporter": "python",
   "pygments_lexer": "ipython3",
   "version": "3.8.8"
  }
 },
 "nbformat": 4,
 "nbformat_minor": 5
}
