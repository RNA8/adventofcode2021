{
 "cells": [
  {
   "cell_type": "code",
   "execution_count": 1,
   "id": "80ac805c",
   "metadata": {},
   "outputs": [],
   "source": [
    "import os\n",
    "import numpy as np\n",
    "import aocd\n",
    "from aocd.models import Puzzle\n",
    "from aocd import submit"
   ]
  },
  {
   "cell_type": "code",
   "execution_count": 2,
   "id": "ca698f8a",
   "metadata": {},
   "outputs": [
    {
     "data": {
      "text/plain": [
       "<Puzzle(2021, 13) at 0x7fbcf16db610 - Transparent Origami>"
      ]
     },
     "execution_count": 2,
     "metadata": {},
     "output_type": "execute_result"
    }
   ],
   "source": [
    "current_day = 13\n",
    "current_year = 2021\n",
    "puzzle = Puzzle(year=current_year, day=current_day)\n",
    "puzzle"
   ]
  },
  {
   "cell_type": "code",
   "execution_count": 20,
   "id": "6d6ec226",
   "metadata": {},
   "outputs": [
    {
     "data": {
      "text/plain": [
       "(array([[1101,  291],\n",
       "        [ 221,  448],\n",
       "        [1098,  383],\n",
       "        ...,\n",
       "        [  98,  408],\n",
       "        [1193,  372],\n",
       "        [ 565,   73]], dtype=int32),\n",
       " [['x', '655'],\n",
       "  ['y', '447'],\n",
       "  ['x', '327'],\n",
       "  ['y', '223'],\n",
       "  ['x', '163'],\n",
       "  ['y', '111'],\n",
       "  ['x', '81'],\n",
       "  ['y', '55'],\n",
       "  ['x', '40'],\n",
       "  ['y', '27'],\n",
       "  ['y', '13'],\n",
       "  ['y', '6']])"
      ]
     },
     "execution_count": 20,
     "metadata": {},
     "output_type": "execute_result"
    }
   ],
   "source": [
    "coords, folds = puzzle.input_data.split('\\n\\n')\n",
    "coords = coords.splitlines()\n",
    "folds = folds.splitlines()\n",
    "coords = np.array([np.int32(coord.split(',')) for coord in coords])\n",
    "folds = [fold.replace('fold along ','').split('=') for fold in folds]\n",
    "coords, folds"
   ]
  },
  {
   "cell_type": "markdown",
   "id": "a4447e93",
   "metadata": {},
   "source": [
    "# Part 1"
   ]
  },
  {
   "cell_type": "code",
   "execution_count": 37,
   "id": "3f346b10",
   "metadata": {},
   "outputs": [
    {
     "name": "stdout",
     "output_type": "stream",
     "text": [
      "num_cols = 1311, num_rows = 895\n"
     ]
    }
   ],
   "source": [
    "num_cols, num_rows = np.max(coords,axis=0) - np.min(coords,axis=0) + 1\n",
    "print(f\"{num_cols = }, {num_rows = }\")\n",
    "grid = np.zeros((num_rows, num_cols), dtype=int)\n",
    "for x,y in coords:\n",
    "    grid[y,x] = 1"
   ]
  },
  {
   "cell_type": "code",
   "execution_count": 38,
   "id": "797da313",
   "metadata": {},
   "outputs": [],
   "source": [
    "fold_loc = 655\n",
    "to_fold_over = grid[:,fold_loc+1:]\n",
    "# flip horizontally\n",
    "to_fold_over = to_fold_over[:,::-1]\n",
    "assert to_fold_over.shape == grid[:,fold_loc-to_fold_over.shape[1]:fold_loc].shape\n",
    "grid[:,fold_loc-to_fold_over.shape[1]:fold_loc] = grid[:,fold_loc-to_fold_over.shape[1]:fold_loc] | to_fold_over\n",
    "grid = grid[:,:fold_loc]\n"
   ]
  },
  {
   "cell_type": "code",
   "execution_count": 40,
   "id": "931814a8",
   "metadata": {},
   "outputs": [
    {
     "data": {
      "text/plain": [
       "716"
      ]
     },
     "execution_count": 40,
     "metadata": {},
     "output_type": "execute_result"
    }
   ],
   "source": [
    "grid.sum()"
   ]
  },
  {
   "cell_type": "code",
   "execution_count": 41,
   "id": "eb7cbe1c",
   "metadata": {},
   "outputs": [
    {
     "name": "stdout",
     "output_type": "stream",
     "text": [
      "\u001b[32mThat's the right answer!  You are one gold star closer to finding the sleigh keys. You got rank 370 on this star's leaderboard. [Continue to Part Two]\u001b[0m\n"
     ]
    }
   ],
   "source": [
    "puzzle.answer_a = 716"
   ]
  },
  {
   "cell_type": "markdown",
   "id": "2628ea09",
   "metadata": {},
   "source": [
    "# Part 2"
   ]
  },
  {
   "cell_type": "code",
   "execution_count": 43,
   "id": "c9707330",
   "metadata": {},
   "outputs": [],
   "source": [
    "import matplotlib.pyplot as plt\n",
    "%matplotlib inline"
   ]
  },
  {
   "cell_type": "code",
   "execution_count": 46,
   "id": "ac79dadf",
   "metadata": {},
   "outputs": [],
   "source": [
    "def do_fold(grid, fold_axis, fold_loc):\n",
    "    if fold_axis == 'x':\n",
    "        to_fold_over = grid[:,fold_loc+1:]\n",
    "        # flip horizontally\n",
    "        to_fold_over = to_fold_over[:,::-1]\n",
    "        assert to_fold_over.shape == grid[:,fold_loc-to_fold_over.shape[1]:fold_loc].shape\n",
    "        grid[:,fold_loc-to_fold_over.shape[1]:fold_loc] |= to_fold_over\n",
    "        grid = grid[:,:fold_loc]\n",
    "    else: # 'y'\n",
    "        to_fold_over = grid[fold_loc+1:,:]\n",
    "        # flip vertically\n",
    "        to_fold_over = to_fold_over[::-1,:]\n",
    "        assert to_fold_over.shape == grid[fold_loc-to_fold_over.shape[0]:fold_loc,:].shape\n",
    "        grid[fold_loc-to_fold_over.shape[0]:fold_loc,:] |= to_fold_over\n",
    "        grid = grid[:fold_loc,:]\n",
    "    return grid"
   ]
  },
  {
   "cell_type": "code",
   "execution_count": 47,
   "id": "098067a9",
   "metadata": {},
   "outputs": [
    {
     "name": "stdout",
     "output_type": "stream",
     "text": [
      "num_cols = 1311, num_rows = 895\n"
     ]
    },
    {
     "data": {
      "text/plain": [
       "<matplotlib.image.AxesImage at 0x7fbcf5c88310>"
      ]
     },
     "execution_count": 47,
     "metadata": {},
     "output_type": "execute_result"
    },
    {
     "data": {
      "image/png": "[encoded data removed]",
      "text/plain": [
       "<Figure size 432x288 with 1 Axes>"
      ]
     },
     "metadata": {
      "needs_background": "light"
     },
     "output_type": "display_data"
    }
   ],
   "source": [
    "num_cols, num_rows = np.max(coords,axis=0) - np.min(coords,axis=0) + 1\n",
    "print(f\"{num_cols = }, {num_rows = }\")\n",
    "grid = np.zeros((num_rows, num_cols), dtype=int)\n",
    "for x,y in coords:\n",
    "    grid[y,x] = 1\n",
    "for fold_axis, fold_loc in folds:\n",
    "    grid = do_fold(grid,fold_axis, int(fold_loc))\n",
    "plt.imshow(grid)"
   ]
  },
  {
   "cell_type": "code",
   "execution_count": 48,
   "id": "1b242738",
   "metadata": {},
   "outputs": [
    {
     "name": "stdout",
     "output_type": "stream",
     "text": [
      "\u001b[32mThat's the right answer!  You are one gold star closer to finding the sleigh keys. You got rank 287 on this star's leaderboard.You have completed Day 13! You can [Shareon\n",
      "  Twitter\n",
      "Mastodon] this victory or [Return to Your Advent Calendar].\u001b[0m\n"
     ]
    }
   ],
   "source": [
    "puzzle.answer_b = 'RPCKFBLR'"
   ]
  },
  {
   "cell_type": "code",
   "execution_count": null,
   "id": "e94654e5",
   "metadata": {},
   "outputs": [],
   "source": []
  }
 ],
 "metadata": {
  "kernelspec": {
   "display_name": "Python 3 (ipykernel)",
   "language": "python",
   "name": "python3"
  },
  "language_info": {
   "codemirror_mode": {
    "name": "ipython",
    "version": 3
   },
   "file_extension": ".py",
   "mimetype": "text/x-python",
   "name": "python",
   "nbconvert_exporter": "python",
   "pygments_lexer": "ipython3",
   "version": "3.9.7"
  }
 },
 "nbformat": 4,
 "nbformat_minor": 5
}
