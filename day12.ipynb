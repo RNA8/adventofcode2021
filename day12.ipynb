{
 "cells": [
  {
   "cell_type": "code",
   "execution_count": 19,
   "id": "80ac805c",
   "metadata": {},
   "outputs": [],
   "source": [
    "import os\n",
    "import numpy as np\n",
    "import aocd\n",
    "from aocd.models import Puzzle\n",
    "from aocd import submit"
   ]
  },
  {
   "cell_type": "code",
   "execution_count": 20,
   "id": "ca698f8a",
   "metadata": {},
   "outputs": [
    {
     "data": {
      "text/plain": [
       "<Puzzle(2021, 12) at 0x7ffb559985b0 - Passage Pathing>"
      ]
     },
     "execution_count": 20,
     "metadata": {},
     "output_type": "execute_result"
    }
   ],
   "source": [
    "current_day = 12\n",
    "current_year = 2021\n",
    "puzzle = Puzzle(year=current_year, day=current_day)\n",
    "puzzle"
   ]
  },
  {
   "cell_type": "code",
   "execution_count": 21,
   "id": "6d6ec226",
   "metadata": {},
   "outputs": [
    {
     "data": {
      "text/plain": [
       "['TR-start',\n",
       " 'xx-JT',\n",
       " 'xx-TR',\n",
       " 'hc-dd',\n",
       " 'ab-JT',\n",
       " 'hc-end',\n",
       " 'dd-JT',\n",
       " 'ab-dd',\n",
       " 'TR-ab',\n",
       " 'vh-xx',\n",
       " 'hc-JT',\n",
       " 'TR-vh',\n",
       " 'xx-start',\n",
       " 'hc-ME',\n",
       " 'vh-dd',\n",
       " 'JT-bm',\n",
       " 'end-ab',\n",
       " 'dd-xx',\n",
       " 'end-TR',\n",
       " 'hc-TR',\n",
       " 'start-vh']"
      ]
     },
     "execution_count": 21,
     "metadata": {},
     "output_type": "execute_result"
    }
   ],
   "source": [
    "data = puzzle.input_data.splitlines()\n",
    "data"
   ]
  },
  {
   "cell_type": "markdown",
   "id": "ca2be0a5",
   "metadata": {},
   "source": [
    "Today's code was referenced from : \n",
    "https://www.reddit.com/r/adventofcode/comments/rehj2r/2021_day_12_solutions/ho7ob53/?context=3"
   ]
  },
  {
   "cell_type": "markdown",
   "id": "a4447e93",
   "metadata": {},
   "source": [
    "# Part 1"
   ]
  },
  {
   "cell_type": "code",
   "execution_count": 22,
   "id": "3f346b10",
   "metadata": {},
   "outputs": [
    {
     "name": "stdout",
     "output_type": "stream",
     "text": [
      "11 {'ab', 'bm', 'vh', 'TR', 'dd', 'hc', 'start', 'JT', 'xx', 'end', 'ME'}\n"
     ]
    },
    {
     "data": {
      "text/plain": [
       "{'ab': ['JT', 'dd', 'TR', 'end'],\n",
       " 'bm': ['JT'],\n",
       " 'vh': ['xx', 'TR', 'dd', 'start'],\n",
       " 'TR': ['start', 'xx', 'ab', 'vh', 'end', 'hc'],\n",
       " 'dd': ['hc', 'JT', 'ab', 'vh', 'xx'],\n",
       " 'hc': ['dd', 'end', 'JT', 'ME', 'TR'],\n",
       " 'start': ['TR', 'xx', 'vh'],\n",
       " 'JT': ['xx', 'ab', 'dd', 'hc', 'bm'],\n",
       " 'xx': ['JT', 'TR', 'vh', 'start', 'dd'],\n",
       " 'end': ['hc', 'ab', 'TR'],\n",
       " 'ME': ['hc']}"
      ]
     },
     "execution_count": 22,
     "metadata": {},
     "output_type": "execute_result"
    }
   ],
   "source": [
    "nodes = { x for line in data for x in line.split('-') }\n",
    "print(len(nodes), nodes)\n",
    "\n",
    "adjacency_list = {node:[] for node in nodes}\n",
    "for line in data:\n",
    "    a,b = line.split('-')\n",
    "    adjacency_list[a].append(b)\n",
    "    adjacency_list[b].append(a)\n",
    "adjacency_list"
   ]
  },
  {
   "cell_type": "code",
   "execution_count": 31,
   "id": "797da313",
   "metadata": {},
   "outputs": [
    {
     "data": {
      "text/plain": [
       "5157"
      ]
     },
     "execution_count": 31,
     "metadata": {},
     "output_type": "execute_result"
    }
   ],
   "source": [
    "def compute_paths(node, seen_nodes):\n",
    "    if node == 'end':\n",
    "        return 1\n",
    "    if node.islower() and node in seen_nodes:\n",
    "        return 0\n",
    "    new_seen_nodes = seen_nodes | {node}\n",
    "    path_count = 0\n",
    "    for other_node in adjacency_list[node]:\n",
    "        path_count += compute_paths(other_node, new_seen_nodes)\n",
    "    return path_count\n",
    "\n",
    "path_count = compute_paths(\"start\", set())\n",
    "path_count"
   ]
  },
  {
   "cell_type": "code",
   "execution_count": 29,
   "id": "eb7cbe1c",
   "metadata": {},
   "outputs": [
    {
     "name": "stdout",
     "output_type": "stream",
     "text": [
      "\u001b[32mThat's the right answer!  You are one gold star closer to finding the sleigh keys. [Continue to Part Two]\u001b[0m\n"
     ]
    }
   ],
   "source": [
    "puzzle.answer_a = path_count"
   ]
  },
  {
   "cell_type": "markdown",
   "id": "2628ea09",
   "metadata": {},
   "source": [
    "# Part 2"
   ]
  },
  {
   "cell_type": "code",
   "execution_count": 37,
   "id": "c9707330",
   "metadata": {},
   "outputs": [
    {
     "data": {
      "text/plain": [
       "144309"
      ]
     },
     "execution_count": 37,
     "metadata": {},
     "output_type": "execute_result"
    }
   ],
   "source": [
    "def compute_paths(node, seen_nodes, visited_already):\n",
    "    if node == 'end':\n",
    "        return 1\n",
    "    if node == \"start\" and len(seen_nodes)>0:\n",
    "        return 0\n",
    "    if node.islower() and node in seen_nodes:\n",
    "        if visited_already:\n",
    "            return 0\n",
    "        else:\n",
    "            visited_already = True\n",
    "    new_seen_nodes = seen_nodes | {node}\n",
    "    path_count = 0\n",
    "    for other_node in adjacency_list[node]:\n",
    "        path_count += compute_paths(other_node, new_seen_nodes, visited_already)\n",
    "    return path_count\n",
    "\n",
    "path_count = compute_paths(\"start\", set(), False)\n",
    "path_count"
   ]
  },
  {
   "cell_type": "code",
   "execution_count": null,
   "id": "098067a9",
   "metadata": {},
   "outputs": [],
   "source": [
    "# def paths(cur: str, seen, dup):\n",
    "#     if cur == 'end':\n",
    "#         return 1\n",
    "#     if cur == \"start\" and seen:\n",
    "#         return 0\n",
    "#     if cur.islower() and cur in seen:\n",
    "#         if dup is None:\n",
    "#             dup = cur\n",
    "#         else:\n",
    "#             return 0\n",
    "#     seen = seen | {cur}\n",
    "#     out = 0\n",
    "#     for thing in adj[cur]:\n",
    "#         out += paths(thing, seen, dup)\n",
    "#     return out\n",
    "\n",
    "# out = paths(\"start\", set(), None)"
   ]
  },
  {
   "cell_type": "code",
   "execution_count": null,
   "id": "ac79dadf",
   "metadata": {},
   "outputs": [],
   "source": []
  },
  {
   "cell_type": "code",
   "execution_count": 36,
   "id": "1b242738",
   "metadata": {},
   "outputs": [
    {
     "name": "stdout",
     "output_type": "stream",
     "text": [
      "\u001b[32mThat's the right answer!  You are one gold star closer to finding the sleigh keys.You have completed Day 12! You can [Shareon\n",
      "  Twitter\n",
      "Mastodon] this victory or [Return to Your Advent Calendar].\u001b[0m\n"
     ]
    }
   ],
   "source": [
    "puzzle.answer_b = path_count"
   ]
  },
  {
   "cell_type": "code",
   "execution_count": null,
   "id": "713d4eec",
   "metadata": {},
   "outputs": [],
   "source": []
  }
 ],
 "metadata": {
  "kernelspec": {
   "display_name": "Python 3 (ipykernel)",
   "language": "python",
   "name": "python3"
  },
  "language_info": {
   "codemirror_mode": {
    "name": "ipython",
    "version": 3
   },
   "file_extension": ".py",
   "mimetype": "text/x-python",
   "name": "python",
   "nbconvert_exporter": "python",
   "pygments_lexer": "ipython3",
   "version": "3.9.7"
  }
 },
 "nbformat": 4,
 "nbformat_minor": 5
}
