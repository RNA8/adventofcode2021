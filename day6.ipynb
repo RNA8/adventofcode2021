{
 "cells": [
  {
   "cell_type": "code",
   "execution_count": 1,
   "id": "80ac805c",
   "metadata": {},
   "outputs": [],
   "source": [
    "import os\n",
    "import numpy as np\n",
    "import aocd\n",
    "from aocd.models import Puzzle\n",
    "from aocd import submit"
   ]
  },
  {
   "cell_type": "code",
   "execution_count": 2,
   "id": "ca698f8a",
   "metadata": {},
   "outputs": [
    {
     "data": {
      "text/plain": [
       "<Puzzle(2021, 6) at 0x7f99cb6cef10 - Lanternfish>"
      ]
     },
     "execution_count": 2,
     "metadata": {},
     "output_type": "execute_result"
    }
   ],
   "source": [
    "current_day = 6\n",
    "current_year = 2021\n",
    "puzzle = Puzzle(year=current_year, day=current_day)\n",
    "puzzle"
   ]
  },
  {
   "cell_type": "code",
   "execution_count": 3,
   "id": "714026e6",
   "metadata": {},
   "outputs": [
    {
     "data": {
      "text/plain": [
       "['4,1,3,2,4,3,1,4,4,1,1,1,5,2,4,4,2,1,2,3,4,1,2,4,3,4,5,1,1,3,1,2,1,4,1,1,3,4,1,2,5,1,4,2,2,1,1,1,3,1,5,3,1,2,1,1,1,1,4,1,1,1,2,2,1,3,1,3,1,3,4,5,1,2,2,1,1,1,4,1,5,1,3,1,3,4,1,3,2,3,4,4,4,3,4,5,1,3,1,3,5,1,1,1,1,1,2,4,1,2,1,1,1,5,1,1,2,1,3,1,4,2,3,4,4,3,1,1,3,5,3,1,1,5,2,4,1,1,3,5,1,4,3,1,1,4,2,1,1,1,1,1,1,3,1,1,1,1,1,4,5,1,2,5,3,1,1,3,1,1,1,1,5,1,2,5,1,1,1,1,1,1,3,5,1,3,2,1,1,1,1,1,1,1,4,5,1,1,3,1,5,1,1,1,1,3,3,1,1,1,4,4,1,1,4,1,2,1,4,4,1,1,3,4,3,5,4,1,1,4,1,3,1,1,5,5,1,2,1,2,1,2,3,1,1,3,1,1,2,1,1,3,4,3,1,1,3,3,5,1,2,1,4,1,1,2,1,3,1,1,1,1,1,1,1,4,5,5,1,1,1,4,1,1,1,2,1,2,1,3,1,3,1,1,1,1,1,1,1,5']"
      ]
     },
     "execution_count": 3,
     "metadata": {},
     "output_type": "execute_result"
    }
   ],
   "source": [
    "puzzle.input_data.splitlines()"
   ]
  },
  {
   "cell_type": "markdown",
   "id": "a4447e93",
   "metadata": {},
   "source": [
    "# Part 1"
   ]
  },
  {
   "cell_type": "code",
   "execution_count": 10,
   "id": "5c8eeb2c",
   "metadata": {},
   "outputs": [],
   "source": [
    "from collections import Counter, OrderedDict"
   ]
  },
  {
   "cell_type": "code",
   "execution_count": 15,
   "id": "3f346b10",
   "metadata": {},
   "outputs": [
    {
     "data": {
      "text/plain": [
       "OrderedDict([(0, 0),\n",
       "             (1, 155),\n",
       "             (2, 33),\n",
       "             (3, 45),\n",
       "             (4, 41),\n",
       "             (5, 26),\n",
       "             (6, 0),\n",
       "             (7, 0),\n",
       "             (8, 0)])"
      ]
     },
     "execution_count": 15,
     "metadata": {},
     "output_type": "execute_result"
    }
   ],
   "source": [
    "cntr = Counter(np.int32(puzzle.input_data.split(',')))\n",
    "hist = OrderedDict()\n",
    "for i in range(9):\n",
    "    if i in cntr:\n",
    "        hist[i] = cntr[i]\n",
    "    else:\n",
    "        hist[i] = 0\n",
    "hist"
   ]
  },
  {
   "cell_type": "code",
   "execution_count": 16,
   "id": "e375f9b7",
   "metadata": {},
   "outputs": [
    {
     "data": {
      "text/plain": [
       "375482"
      ]
     },
     "execution_count": 16,
     "metadata": {},
     "output_type": "execute_result"
    }
   ],
   "source": [
    "for day in range(80):\n",
    "    age = 0\n",
    "    num_giving_birth = hist[age] # these need to be reset to 6\n",
    "    for age in range(1,9):\n",
    "        hist[age-1] = hist[age]\n",
    "        hist[age] = 0\n",
    "    hist[6] += num_giving_birth\n",
    "    hist[8] += num_giving_birth\n",
    "sum(hist.values())"
   ]
  },
  {
   "cell_type": "code",
   "execution_count": 17,
   "id": "eb7cbe1c",
   "metadata": {},
   "outputs": [
    {
     "name": "stdout",
     "output_type": "stream",
     "text": [
      "\u001b[32mThat's the right answer!  You are one gold star closer to finding the sleigh keys. [Continue to Part Two]\u001b[0m\n"
     ]
    }
   ],
   "source": [
    "puzzle.answer_a = 375482"
   ]
  },
  {
   "cell_type": "markdown",
   "id": "2628ea09",
   "metadata": {},
   "source": [
    "# Part 2"
   ]
  },
  {
   "cell_type": "code",
   "execution_count": 18,
   "id": "525b0055",
   "metadata": {},
   "outputs": [
    {
     "data": {
      "text/plain": [
       "1689540415957"
      ]
     },
     "execution_count": 18,
     "metadata": {},
     "output_type": "execute_result"
    }
   ],
   "source": [
    "cntr = Counter(np.int32(puzzle.input_data.split(',')))\n",
    "hist = OrderedDict()\n",
    "for i in range(9):\n",
    "    if i in cntr:\n",
    "        hist[i] = cntr[i]\n",
    "    else:\n",
    "        hist[i] = 0\n",
    "for day in range(256):\n",
    "    age = 0\n",
    "    num_giving_birth = hist[age] # these need to be reset to 6\n",
    "    for age in range(1,9):\n",
    "        hist[age-1] = hist[age]\n",
    "        hist[age] = 0\n",
    "    hist[6] += num_giving_birth\n",
    "    hist[8] += num_giving_birth\n",
    "sum(hist.values())"
   ]
  },
  {
   "cell_type": "code",
   "execution_count": 19,
   "id": "1b242738",
   "metadata": {},
   "outputs": [
    {
     "name": "stdout",
     "output_type": "stream",
     "text": [
      "\u001b[32mThat's the right answer!  You are one gold star closer to finding the sleigh keys. You got rank 290 on this star's leaderboard.You have completed Day 6! You can [Shareon\n",
      "  Twitter\n",
      "Mastodon] this victory or [Return to Your Advent Calendar].\u001b[0m\n"
     ]
    }
   ],
   "source": [
    "puzzle.answer_b = 1689540415957"
   ]
  },
  {
   "cell_type": "code",
   "execution_count": null,
   "id": "55a14629",
   "metadata": {},
   "outputs": [],
   "source": []
  }
 ],
 "metadata": {
  "kernelspec": {
   "display_name": "Python 3 (ipykernel)",
   "language": "python",
   "name": "python3"
  },
  "language_info": {
   "codemirror_mode": {
    "name": "ipython",
    "version": 3
   },
   "file_extension": ".py",
   "mimetype": "text/x-python",
   "name": "python",
   "nbconvert_exporter": "python",
   "pygments_lexer": "ipython3",
   "version": "3.9.7"
  }
 },
 "nbformat": 4,
 "nbformat_minor": 5
}
