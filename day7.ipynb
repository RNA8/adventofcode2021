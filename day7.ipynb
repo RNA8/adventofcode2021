{
 "cells": [
  {
   "cell_type": "code",
   "execution_count": 1,
   "id": "80ac805c",
   "metadata": {},
   "outputs": [],
   "source": [
    "import os\n",
    "import numpy as np\n",
    "import aocd\n",
    "from aocd.models import Puzzle\n",
    "from aocd import submit"
   ]
  },
  {
   "cell_type": "code",
   "execution_count": 2,
   "id": "ca698f8a",
   "metadata": {},
   "outputs": [
    {
     "data": {
      "text/plain": [
       "<Puzzle(2021, 7) at 0x7fad27edea60 - The Treachery of Whales>"
      ]
     },
     "execution_count": 2,
     "metadata": {},
     "output_type": "execute_result"
    }
   ],
   "source": [
    "current_day = 7\n",
    "current_year = 2021\n",
    "puzzle = Puzzle(year=current_year, day=current_day)\n",
    "puzzle"
   ]
  },
  {
   "cell_type": "code",
   "execution_count": 3,
   "id": "53f46340",
   "metadata": {},
   "outputs": [],
   "source": [
    "data = np.int32(puzzle.input_data.split(','))"
   ]
  },
  {
   "cell_type": "markdown",
   "id": "a4447e93",
   "metadata": {},
   "source": [
    "# Part 1"
   ]
  },
  {
   "cell_type": "code",
   "execution_count": 4,
   "id": "4d5a1bcf",
   "metadata": {},
   "outputs": [
    {
     "data": {
      "text/plain": [
       "328187"
      ]
     },
     "execution_count": 4,
     "metadata": {},
     "output_type": "execute_result"
    }
   ],
   "source": [
    "np.sum(np.abs(data - int(np.median(data))))"
   ]
  },
  {
   "cell_type": "code",
   "execution_count": 5,
   "id": "eb7cbe1c",
   "metadata": {},
   "outputs": [],
   "source": [
    "puzzle.answer_a = 328187"
   ]
  },
  {
   "cell_type": "markdown",
   "id": "2628ea09",
   "metadata": {},
   "source": [
    "# Part 2"
   ]
  },
  {
   "cell_type": "code",
   "execution_count": 6,
   "id": "c9707330",
   "metadata": {},
   "outputs": [],
   "source": [
    "dists = np.abs(data - int(np.mean(data))).astype('int')"
   ]
  },
  {
   "cell_type": "code",
   "execution_count": 7,
   "id": "098067a9",
   "metadata": {},
   "outputs": [
    {
     "data": {
      "text/plain": [
       "91257582"
      ]
     },
     "execution_count": 7,
     "metadata": {},
     "output_type": "execute_result"
    }
   ],
   "source": [
    "(dists*(dists+1)//2).sum()"
   ]
  },
  {
   "cell_type": "code",
   "execution_count": 8,
   "id": "1b242738",
   "metadata": {},
   "outputs": [],
   "source": [
    "puzzle.answer_b = 91257582"
   ]
  },
  {
   "cell_type": "code",
   "execution_count": null,
   "id": "5aaef96e",
   "metadata": {},
   "outputs": [],
   "source": []
  }
 ],
 "metadata": {
  "kernelspec": {
   "display_name": "Python 3 (ipykernel)",
   "language": "python",
   "name": "python3"
  },
  "language_info": {
   "codemirror_mode": {
    "name": "ipython",
    "version": 3
   },
   "file_extension": ".py",
   "mimetype": "text/x-python",
   "name": "python",
   "nbconvert_exporter": "python",
   "pygments_lexer": "ipython3",
   "version": "3.9.7"
  }
 },
 "nbformat": 4,
 "nbformat_minor": 5
}
