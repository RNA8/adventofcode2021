{
 "cells": [
  {
   "cell_type": "code",
   "execution_count": 1,
   "id": "80ac805c",
   "metadata": {},
   "outputs": [
    {
     "name": "stdout",
     "output_type": "stream",
     "text": [
      "Automatic pdb calling has been turned ON\n"
     ]
    }
   ],
   "source": [
    "import os\n",
    "import numpy as np\n",
    "import aocd\n",
    "import math\n",
    "from aocd.models import Puzzle\n",
    "from aocd import submit\n",
    "%pdb"
   ]
  },
  {
   "cell_type": "code",
   "execution_count": 2,
   "id": "ca698f8a",
   "metadata": {},
   "outputs": [
    {
     "data": {
      "text/plain": [
       "<Puzzle(2021, 16) at 0x7fd1c440fbe0 - Packet Decoder>"
      ]
     },
     "execution_count": 2,
     "metadata": {},
     "output_type": "execute_result"
    }
   ],
   "source": [
    "current_day = 16\n",
    "current_year = 2021\n",
    "puzzle = Puzzle(year=current_year, day=current_day)\n",
    "puzzle"
   ]
  },
  {
   "cell_type": "markdown",
   "id": "a4447e93",
   "metadata": {},
   "source": [
    "# Part 1"
   ]
  },
  {
   "cell_type": "code",
   "execution_count": 3,
   "id": "d62de5e6",
   "metadata": {},
   "outputs": [
    {
     "data": {
      "text/plain": [
       "'20546718027401204FE775D747A5AD3C3CCEEB24CC01CA4DFF2593378D645708A56D5BD704CC0110C469BEF2A4929689D1006AF600AC942B0BA0C942B0BA24F9DA8023377E5AC7535084BC6A4020D4C73DB78F005A52BBEEA441255B42995A300AA59C27086618A686E71240005A8C73D4CF0AC40169C739584BE2E40157D0025533770940695FE982486C802DD9DC56F9F07580291C64AAAC402435802E00087C1E8250440010A8C705A3ACA112001AF251B2C9009A92D8EBA6006A0200F4228F50E80010D8A7052280003AD31D658A9231AA34E50FC8010694089F41000C6A73F4EDFB6C9CC3E97AF5C61A10095FE00B80021B13E3D41600042E13C6E8912D4176002BE6B060001F74AE72C7314CEAD3AB14D184DE62EB03880208893C008042C91D8F9801726CEE00BCBDDEE3F18045348F34293E09329B24568014DCADB2DD33AEF66273DA45300567ED827A00B8657B2E42FD3795ECB90BF4C1C0289D0695A6B07F30B93ACB35FBFA6C2A007A01898005CD2801A60058013968048EB010D6803DE000E1C6006B00B9CC028D8008DC401DD9006146005980168009E1801B37E02200C9B0012A998BACB2EC8E3D0FC8262C1009D00008644F8510F0401B825182380803506A12421200CB677011E00AC8C6DA2E918DB454401976802F29AA324A6A8C12B3FD978004EB30076194278BE600C44289B05C8010B8FF1A6239802F3F0FFF7511D0056364B4B18B034BDFB7173004740111007230C5A8B6000874498E30A27BF92B3007A786A51027D7540209A04821279D41AA6B54C15CBB4CC3648E8325B490401CD4DAFE004D932792708F3D4F769E28500BE5AF4949766DC24BB5A2C4DC3FC3B9486A7A0D2008EA7B659A00B4B8ACA8D90056FA00ACBCAA272F2A8A4FB51802929D46A00D58401F8631863700021513219C11200996C01099FBBCE6285106'"
      ]
     },
     "execution_count": 3,
     "metadata": {},
     "output_type": "execute_result"
    }
   ],
   "source": [
    "data = puzzle.input_data.strip()\n",
    "data"
   ]
  },
  {
   "cell_type": "code",
   "execution_count": 4,
   "id": "66036ba6",
   "metadata": {},
   "outputs": [],
   "source": [
    "bitmap = {'0':'0000',\n",
    "          '1':'0001',\n",
    "          '2':'0010',\n",
    "          '3':'0011',\n",
    "          '4':'0100',\n",
    "          '5':'0101',\n",
    "          '6':'0110',\n",
    "          '7':'0111',\n",
    "          '8':'1000',\n",
    "          '9':'1001',\n",
    "          'A':'1010',\n",
    "          'B':'1011',\n",
    "          'C':'1100',\n",
    "          'D':'1101',\n",
    "          'E':'1110',\n",
    "          'F':'1111'}"
   ]
  },
  {
   "cell_type": "code",
   "execution_count": 5,
   "id": "26e1adcb",
   "metadata": {},
   "outputs": [],
   "source": [
    "version_bits = 3\n",
    "type_bits = 3\n",
    "literal_bits = 5\n",
    "len_subpackets_bits = 15\n",
    "num_subpackets_bits = 11"
   ]
  },
  {
   "cell_type": "code",
   "execution_count": 6,
   "id": "807a216e",
   "metadata": {},
   "outputs": [],
   "source": [
    "def parse_literal(bitstream, index):\n",
    "    literal_string = []\n",
    "    while bitstream[index] == '1':\n",
    "        # keep appending next 4 bits\n",
    "        literal_string.append(bitstream[index+1:index+literal_bits])\n",
    "        index += literal_bits\n",
    "    # last one\n",
    "    literal_string.append(bitstream[index+1:index+literal_bits])\n",
    "    index += literal_bits\n",
    "    return int(''.join(literal_string),2), index"
   ]
  },
  {
   "cell_type": "code",
   "execution_count": 7,
   "id": "fa04e58d",
   "metadata": {},
   "outputs": [],
   "source": [
    "def parse_bitstream(bits, idx):\n",
    "    packet_version = int(bits[idx:idx+version_bits],2)\n",
    "    idx += version_bits\n",
    "    packet_type = int(bits[idx:idx+type_bits],2)\n",
    "    idx += type_bits\n",
    "    result = {'version':packet_version, 'type': packet_type}\n",
    "    if packet_type == 4: # literal\n",
    "        literal, idx = parse_literal(bits, idx)\n",
    "        # print(f'Found literal with value = {literal}')\n",
    "        result['value'] = literal\n",
    "    else: # operator\n",
    "        result['value'] = []\n",
    "        if bits[idx] == '0':\n",
    "            # next 15 bits represent total length in bits of sub-packets\n",
    "            len_subpackets = int(bits[idx+1:idx+1+len_subpackets_bits],2)\n",
    "            idx += 1+len_subpackets_bits\n",
    "            target_idx = idx + len_subpackets\n",
    "            # print(f\"Found operator with {len_subpackets} bits' worth of subpackets...\")\n",
    "            while idx < target_idx:\n",
    "                res, idx = parse_bitstream(bits, idx)\n",
    "                result['value'].append(res)\n",
    "        else:\n",
    "            # next 11 bits represent number of sub-packets\n",
    "            num_subpackets = int(bits[idx+1:idx+1+num_subpackets_bits],2)\n",
    "            idx += 1+num_subpackets_bits\n",
    "            # print(f\"Found operator with {num_subpackets} subpackets...\")\n",
    "            for subpacket in range(num_subpackets):\n",
    "                res, idx = parse_bitstream(bits, idx)\n",
    "                result['value'].append(res)\n",
    "            \n",
    "    return result, idx"
   ]
  },
  {
   "cell_type": "code",
   "execution_count": 8,
   "id": "56471aa4",
   "metadata": {},
   "outputs": [],
   "source": [
    "def get_version_sum(D):\n",
    "    version_sum = D['version']\n",
    "    # if thiss contains other packets, recursively get sum of their version_sums\n",
    "    if type(D['value']) is list:\n",
    "        version_sum += sum(get_version_sum(x) for x in D['value'])\n",
    "    return version_sum\n",
    "    \n"
   ]
  },
  {
   "cell_type": "code",
   "execution_count": 9,
   "id": "61fbb591",
   "metadata": {},
   "outputs": [],
   "source": [
    "def solve_part1(data):\n",
    "    # construct the bitstream\n",
    "    bits = ''.join(bitmap[i] for i in data)\n",
    "    # parse the bitstream\n",
    "    result, idx = parse_bitstream(bits, 0)\n",
    "    # compute the version sum\n",
    "    version_sum = get_version_sum(result)\n",
    "    # return the result nested dictionary structure along with version sum\n",
    "    return version_sum, result\n",
    "\n"
   ]
  },
  {
   "cell_type": "code",
   "execution_count": 10,
   "id": "accfa8dc",
   "metadata": {},
   "outputs": [
    {
     "name": "stdout",
     "output_type": "stream",
     "text": [
      "version_sum = 6\n"
     ]
    },
    {
     "data": {
      "text/plain": [
       "{'version': 6, 'type': 4, 'value': 2021}"
      ]
     },
     "metadata": {},
     "output_type": "display_data"
    }
   ],
   "source": [
    "version_sum, result = solve_part1('D2FE28')\n",
    "print(f\"{version_sum = }\")\n",
    "display(result)"
   ]
  },
  {
   "cell_type": "code",
   "execution_count": 11,
   "id": "cb97bdc0",
   "metadata": {},
   "outputs": [
    {
     "name": "stdout",
     "output_type": "stream",
     "text": [
      "version_sum = 14\n"
     ]
    },
    {
     "data": {
      "text/plain": [
       "{'version': 7,\n",
       " 'type': 3,\n",
       " 'value': [{'version': 2, 'type': 4, 'value': 1},\n",
       "  {'version': 4, 'type': 4, 'value': 2},\n",
       "  {'version': 1, 'type': 4, 'value': 3}]}"
      ]
     },
     "metadata": {},
     "output_type": "display_data"
    }
   ],
   "source": [
    "version_sum, result = solve_part1('EE00D40C823060')\n",
    "print(f\"{version_sum = }\")\n",
    "display(result)"
   ]
  },
  {
   "cell_type": "code",
   "execution_count": 12,
   "id": "2d519d53",
   "metadata": {},
   "outputs": [
    {
     "name": "stdout",
     "output_type": "stream",
     "text": [
      "version_sum = 16\n"
     ]
    },
    {
     "data": {
      "text/plain": [
       "{'version': 4,\n",
       " 'type': 2,\n",
       " 'value': [{'version': 1,\n",
       "   'type': 2,\n",
       "   'value': [{'version': 5,\n",
       "     'type': 2,\n",
       "     'value': [{'version': 6, 'type': 4, 'value': 15}]}]}]}"
      ]
     },
     "metadata": {},
     "output_type": "display_data"
    }
   ],
   "source": [
    "version_sum, result = solve_part1('8A004A801A8002F478')\n",
    "print(f\"{version_sum = }\")\n",
    "display(result)"
   ]
  },
  {
   "cell_type": "code",
   "execution_count": 13,
   "id": "59dfc047",
   "metadata": {},
   "outputs": [
    {
     "name": "stdout",
     "output_type": "stream",
     "text": [
      "version_sum = 12\n"
     ]
    },
    {
     "data": {
      "text/plain": [
       "{'version': 3,\n",
       " 'type': 0,\n",
       " 'value': [{'version': 0,\n",
       "   'type': 0,\n",
       "   'value': [{'version': 0, 'type': 4, 'value': 10},\n",
       "    {'version': 5, 'type': 4, 'value': 11}]},\n",
       "  {'version': 1,\n",
       "   'type': 0,\n",
       "   'value': [{'version': 0, 'type': 4, 'value': 12},\n",
       "    {'version': 3, 'type': 4, 'value': 13}]}]}"
      ]
     },
     "metadata": {},
     "output_type": "display_data"
    }
   ],
   "source": [
    "version_sum, result = solve_part1('620080001611562C8802118E34')\n",
    "print(f\"{version_sum = }\")\n",
    "display(result)"
   ]
  },
  {
   "cell_type": "code",
   "execution_count": 14,
   "id": "a2376152",
   "metadata": {},
   "outputs": [
    {
     "name": "stdout",
     "output_type": "stream",
     "text": [
      "version_sum = 23\n"
     ]
    },
    {
     "data": {
      "text/plain": [
       "{'version': 6,\n",
       " 'type': 0,\n",
       " 'value': [{'version': 0,\n",
       "   'type': 0,\n",
       "   'value': [{'version': 0, 'type': 4, 'value': 10},\n",
       "    {'version': 6, 'type': 4, 'value': 11}]},\n",
       "  {'version': 4,\n",
       "   'type': 0,\n",
       "   'value': [{'version': 7, 'type': 4, 'value': 12},\n",
       "    {'version': 0, 'type': 4, 'value': 13}]}]}"
      ]
     },
     "metadata": {},
     "output_type": "display_data"
    }
   ],
   "source": [
    "version_sum, result = solve_part1('C0015000016115A2E0802F182340')\n",
    "print(f\"{version_sum = }\")\n",
    "display(result)"
   ]
  },
  {
   "cell_type": "code",
   "execution_count": 15,
   "id": "0af01b33",
   "metadata": {},
   "outputs": [
    {
     "name": "stdout",
     "output_type": "stream",
     "text": [
      "version_sum = 31\n"
     ]
    },
    {
     "data": {
      "text/plain": [
       "{'version': 5,\n",
       " 'type': 0,\n",
       " 'value': [{'version': 1,\n",
       "   'type': 0,\n",
       "   'value': [{'version': 3,\n",
       "     'type': 0,\n",
       "     'value': [{'version': 7, 'type': 4, 'value': 6},\n",
       "      {'version': 6, 'type': 4, 'value': 6},\n",
       "      {'version': 5, 'type': 4, 'value': 12},\n",
       "      {'version': 2, 'type': 4, 'value': 15},\n",
       "      {'version': 2, 'type': 4, 'value': 15}]}]}]}"
      ]
     },
     "metadata": {},
     "output_type": "display_data"
    }
   ],
   "source": [
    "version_sum, result = solve_part1('A0016C880162017C3686B18A3D4780')\n",
    "print(f\"{version_sum = }\")\n",
    "display(result)"
   ]
  },
  {
   "cell_type": "code",
   "execution_count": 16,
   "id": "c93a7f44",
   "metadata": {},
   "outputs": [
    {
     "name": "stdout",
     "output_type": "stream",
     "text": [
      "version_sum = 955\n"
     ]
    },
    {
     "data": {
      "text/plain": [
       "{'version': 1,\n",
       " 'type': 0,\n",
       " 'value': [{'version': 6,\n",
       "   'type': 1,\n",
       "   'value': [{'version': 3,\n",
       "     'type': 5,\n",
       "     'value': [{'version': 0, 'type': 4, 'value': 261839571},\n",
       "      {'version': 6, 'type': 4, 'value': 418703}]},\n",
       "    {'version': 1, 'type': 4, 'value': 55956}]},\n",
       "  {'version': 6,\n",
       "   'type': 3,\n",
       "   'value': [{'version': 4, 'type': 4, 'value': 49045},\n",
       "    {'version': 4, 'type': 4, 'value': 9901349},\n",
       "    {'version': 3, 'type': 4, 'value': 4},\n",
       "    {'version': 2, 'type': 4, 'value': 90535300}]},\n",
       "  {'version': 6,\n",
       "   'type': 3,\n",
       "   'value': [{'version': 1, 'type': 4, 'value': 8},\n",
       "    {'version': 6, 'type': 4, 'value': 777300},\n",
       "    {'version': 4, 'type': 4, 'value': 17943}]},\n",
       "  {'version': 2,\n",
       "   'type': 1,\n",
       "   'value': [{'version': 7,\n",
       "     'type': 5,\n",
       "     'value': [{'version': 5, 'type': 4, 'value': 2117752},\n",
       "      {'version': 1, 'type': 4, 'value': 2117752}]},\n",
       "    {'version': 4, 'type': 4, 'value': 247}]},\n",
       "  {'version': 3,\n",
       "   'type': 2,\n",
       "   'value': [{'version': 1, 'type': 4, 'value': 12043879},\n",
       "    {'version': 2, 'type': 4, 'value': 10486502}]},\n",
       "  {'version': 5,\n",
       "   'type': 1,\n",
       "   'value': [{'version': 2, 'type': 4, 'value': 577215},\n",
       "    {'version': 0,\n",
       "     'type': 7,\n",
       "     'value': [{'version': 6, 'type': 4, 'value': 73128484},\n",
       "      {'version': 0, 'type': 4, 'value': 39191707}]}]},\n",
       "  {'version': 2,\n",
       "   'type': 1,\n",
       "   'value': [{'version': 2, 'type': 4, 'value': 110},\n",
       "    {'version': 0, 'type': 4, 'value': 196},\n",
       "    {'version': 1, 'type': 4, 'value': 140},\n",
       "    {'version': 2, 'type': 4, 'value': 163},\n",
       "    {'version': 3, 'type': 4, 'value': 201}]},\n",
       "  {'version': 1, 'type': 0, 'value': [{'version': 2, 'type': 4, 'value': 12}]},\n",
       "  {'version': 3, 'type': 4, 'value': 936389},\n",
       "  {'version': 3,\n",
       "   'type': 0,\n",
       "   'value': [{'version': 6, 'type': 4, 'value': 206},\n",
       "    {'version': 3, 'type': 4, 'value': 328434}]},\n",
       "  {'version': 7,\n",
       "   'type': 1,\n",
       "   'value': [{'version': 7,\n",
       "     'type': 5,\n",
       "     'value': [{'version': 2, 'type': 4, 'value': 2430},\n",
       "      {'version': 0, 'type': 4, 'value': 64}]},\n",
       "    {'version': 6, 'type': 4, 'value': 24492}]},\n",
       "  {'version': 0, 'type': 4, 'value': 35},\n",
       "  {'version': 3,\n",
       "   'type': 1,\n",
       "   'value': [{'version': 5, 'type': 4, 'value': 226851297},\n",
       "    {'version': 6,\n",
       "     'type': 5,\n",
       "     'value': [{'version': 4, 'type': 4, 'value': 14},\n",
       "      {'version': 1, 'type': 4, 'value': 602}]}]},\n",
       "  {'version': 6,\n",
       "   'type': 1,\n",
       "   'value': [{'version': 6,\n",
       "     'type': 5,\n",
       "     'value': [{'version': 7,\n",
       "       'type': 0,\n",
       "       'value': [{'version': 7, 'type': 4, 'value': 3},\n",
       "        {'version': 6, 'type': 4, 'value': 2},\n",
       "        {'version': 2, 'type': 4, 'value': 2}]},\n",
       "      {'version': 1,\n",
       "       'type': 0,\n",
       "       'value': [{'version': 2, 'type': 4, 'value': 12},\n",
       "        {'version': 3, 'type': 4, 'value': 2},\n",
       "        {'version': 6, 'type': 4, 'value': 14}]}]},\n",
       "    {'version': 5, 'type': 4, 'value': 68}]},\n",
       "  {'version': 2,\n",
       "   'type': 2,\n",
       "   'value': [{'version': 7, 'type': 4, 'value': 8555}]},\n",
       "  {'version': 1,\n",
       "   'type': 1,\n",
       "   'value': [{'version': 4, 'type': 4, 'value': 26846},\n",
       "    {'version': 4,\n",
       "     'type': 6,\n",
       "     'value': [{'version': 0,\n",
       "       'type': 0,\n",
       "       'value': [{'version': 6, 'type': 4, 'value': 4},\n",
       "        {'version': 2, 'type': 4, 'value': 15},\n",
       "        {'version': 2, 'type': 4, 'value': 7}]},\n",
       "      {'version': 2,\n",
       "       'type': 0,\n",
       "       'value': [{'version': 5, 'type': 4, 'value': 10},\n",
       "        {'version': 3, 'type': 4, 'value': 2},\n",
       "        {'version': 4, 'type': 4, 'value': 10}]}]}]},\n",
       "  {'version': 0,\n",
       "   'type': 0,\n",
       "   'value': [{'version': 6, 'type': 4, 'value': 2268},\n",
       "    {'version': 5, 'type': 4, 'value': 10},\n",
       "    {'version': 4, 'type': 4, 'value': 4440}]},\n",
       "  {'version': 6, 'type': 4, 'value': 3143},\n",
       "  {'version': 7,\n",
       "   'type': 1,\n",
       "   'value': [{'version': 6, 'type': 4, 'value': 65},\n",
       "    {'version': 0, 'type': 4, 'value': 248}]},\n",
       "  {'version': 1,\n",
       "   'type': 0,\n",
       "   'value': [{'version': 2, 'type': 4, 'value': 55647393431},\n",
       "    {'version': 1, 'type': 4, 'value': 7},\n",
       "    {'version': 6, 'type': 4, 'value': 30174},\n",
       "    {'version': 1, 'type': 4, 'value': 6}]},\n",
       "  {'version': 4,\n",
       "   'type': 1,\n",
       "   'value': [{'version': 7,\n",
       "     'type': 7,\n",
       "     'value': [{'version': 7,\n",
       "       'type': 0,\n",
       "       'value': [{'version': 5, 'type': 4, 'value': 9},\n",
       "        {'version': 7, 'type': 4, 'value': 15},\n",
       "        {'version': 2, 'type': 4, 'value': 2}]},\n",
       "      {'version': 6,\n",
       "       'type': 0,\n",
       "       'value': [{'version': 3, 'type': 4, 'value': 4},\n",
       "        {'version': 7, 'type': 4, 'value': 13},\n",
       "        {'version': 6, 'type': 4, 'value': 9}]}]},\n",
       "    {'version': 0, 'type': 4, 'value': 1602}]},\n",
       "  {'version': 7,\n",
       "   'type': 3,\n",
       "   'value': [{'version': 7, 'type': 4, 'value': 2694}]},\n",
       "  {'version': 0,\n",
       "   'type': 0,\n",
       "   'value': [{'version': 6, 'type': 4, 'value': 22940},\n",
       "    {'version': 3, 'type': 4, 'value': 2224710492},\n",
       "    {'version': 2, 'type': 4, 'value': 166},\n",
       "    {'version': 0, 'type': 4, 'value': 47390},\n",
       "    {'version': 5, 'type': 4, 'value': 1}]},\n",
       "  {'version': 6,\n",
       "   'type': 1,\n",
       "   'value': [{'version': 0, 'type': 4, 'value': 9},\n",
       "    {'version': 1,\n",
       "     'type': 7,\n",
       "     'value': [{'version': 0, 'type': 4, 'value': 5},\n",
       "      {'version': 4, 'type': 4, 'value': 435}]}]},\n",
       "  {'version': 7, 'type': 1, 'value': [{'version': 3, 'type': 4, 'value': 60}]},\n",
       "  {'version': 7,\n",
       "   'type': 3,\n",
       "   'value': [{'version': 7, 'type': 4, 'value': 1919},\n",
       "    {'version': 3, 'type': 4, 'value': 15}]},\n",
       "  {'version': 6,\n",
       "   'type': 1,\n",
       "   'value': [{'version': 2, 'type': 4, 'value': 168},\n",
       "    {'version': 7, 'type': 4, 'value': 162},\n",
       "    {'version': 4, 'type': 4, 'value': 240},\n",
       "    {'version': 4, 'type': 4, 'value': 153}]},\n",
       "  {'version': 5, 'type': 4, 'value': 37},\n",
       "  {'version': 3,\n",
       "   'type': 2,\n",
       "   'value': [{'version': 3, 'type': 4, 'value': 22173},\n",
       "    {'version': 6, 'type': 4, 'value': 10149170},\n",
       "    {'version': 3, 'type': 4, 'value': 3752}]},\n",
       "  {'version': 5,\n",
       "   'type': 1,\n",
       "   'value': [{'version': 5, 'type': 4, 'value': 63108},\n",
       "    {'version': 7,\n",
       "     'type': 5,\n",
       "     'value': [{'version': 1, 'type': 4, 'value': 1563166678},\n",
       "      {'version': 7, 'type': 4, 'value': 1563166678}]}]},\n",
       "  {'version': 0,\n",
       "   'type': 3,\n",
       "   'value': [{'version': 0, 'type': 4, 'value': 208},\n",
       "    {'version': 6, 'type': 4, 'value': 346759},\n",
       "    {'version': 7, 'type': 4, 'value': 139},\n",
       "    {'version': 4, 'type': 4, 'value': 220},\n",
       "    {'version': 5, 'type': 4, 'value': 11501116}]},\n",
       "  {'version': 1,\n",
       "   'type': 2,\n",
       "   'value': [{'version': 7,\n",
       "     'type': 2,\n",
       "     'value': [{'version': 4,\n",
       "       'type': 0,\n",
       "       'value': [{'version': 2,\n",
       "         'type': 2,\n",
       "         'value': [{'version': 5,\n",
       "           'type': 1,\n",
       "           'value': [{'version': 3,\n",
       "             'type': 0,\n",
       "             'value': [{'version': 3,\n",
       "               'type': 2,\n",
       "               'value': [{'version': 5,\n",
       "                 'type': 3,\n",
       "                 'value': [{'version': 3,\n",
       "                   'type': 2,\n",
       "                   'value': [{'version': 4,\n",
       "                     'type': 0,\n",
       "                     'value': [{'version': 6,\n",
       "                       'type': 1,\n",
       "                       'value': [{'version': 5,\n",
       "                         'type': 3,\n",
       "                         'value': [{'version': 6,\n",
       "                           'type': 3,\n",
       "                           'value': [{'version': 3,\n",
       "                             'type': 0,\n",
       "                             'value': [{'version': 6,\n",
       "                               'type': 1,\n",
       "                               'value': [{'version': 3,\n",
       "                                 'type': 1,\n",
       "                                 'value': [{'version': 2,\n",
       "                                   'type': 1,\n",
       "                                   'value': [{'version': 3,\n",
       "                                     'type': 1,\n",
       "                                     'value': [{'version': 3,\n",
       "                                       'type': 2,\n",
       "                                       'value': [{'version': 4,\n",
       "                                         'type': 1,\n",
       "                                         'value': [{'version': 5,\n",
       "                                           'type': 4,\n",
       "                                           'value': 3040}]}]}]}]}]}]}]}]}]}]}]}]}]}]}]}]}]}]}]}]},\n",
       "  {'version': 2,\n",
       "   'type': 1,\n",
       "   'value': [{'version': 6,\n",
       "     'type': 6,\n",
       "     'value': [{'version': 2, 'type': 4, 'value': 2334},\n",
       "      {'version': 5, 'type': 4, 'value': 107}]},\n",
       "    {'version': 5, 'type': 4, 'value': 26087201}]},\n",
       "  {'version': 1, 'type': 4, 'value': 11},\n",
       "  {'version': 0,\n",
       "   'type': 1,\n",
       "   'value': [{'version': 0,\n",
       "     'type': 0,\n",
       "     'value': [{'version': 4, 'type': 4, 'value': 9},\n",
       "      {'version': 7, 'type': 4, 'value': 5},\n",
       "      {'version': 0, 'type': 4, 'value': 7}]},\n",
       "    {'version': 4,\n",
       "     'type': 0,\n",
       "     'value': [{'version': 3, 'type': 4, 'value': 2},\n",
       "      {'version': 2, 'type': 4, 'value': 12},\n",
       "      {'version': 0, 'type': 4, 'value': 14}]},\n",
       "    {'version': 0,\n",
       "     'type': 0,\n",
       "     'value': [{'version': 2, 'type': 4, 'value': 3},\n",
       "      {'version': 2, 'type': 4, 'value': 4},\n",
       "      {'version': 4, 'type': 4, 'value': 4}]}]},\n",
       "  {'version': 1,\n",
       "   'type': 1,\n",
       "   'value': [{'version': 5, 'type': 4, 'value': 3457},\n",
       "    {'version': 0,\n",
       "     'type': 7,\n",
       "     'value': [{'version': 5, 'type': 4, 'value': 71333},\n",
       "      {'version': 6, 'type': 4, 'value': 71333}]}]},\n",
       "  {'version': 2,\n",
       "   'type': 1,\n",
       "   'value': [{'version': 6,\n",
       "     'type': 6,\n",
       "     'value': [{'version': 7, 'type': 4, 'value': 19020},\n",
       "      {'version': 4, 'type': 4, 'value': 19020}]},\n",
       "    {'version': 0, 'type': 4, 'value': 343915}]},\n",
       "  {'version': 6,\n",
       "   'type': 0,\n",
       "   'value': [{'version': 3,\n",
       "     'type': 1,\n",
       "     'value': [{'version': 5, 'type': 4, 'value': 6},\n",
       "      {'version': 2, 'type': 4, 'value': 4},\n",
       "      {'version': 7, 'type': 4, 'value': 11}]},\n",
       "    {'version': 7,\n",
       "     'type': 1,\n",
       "     'value': [{'version': 0, 'type': 4, 'value': 8},\n",
       "      {'version': 2, 'type': 4, 'value': 9},\n",
       "      {'version': 5, 'type': 4, 'value': 2}]},\n",
       "    {'version': 7,\n",
       "     'type': 1,\n",
       "     'value': [{'version': 3, 'type': 4, 'value': 15},\n",
       "      {'version': 7, 'type': 4, 'value': 13},\n",
       "      {'version': 1, 'type': 4, 'value': 8}]}]},\n",
       "  {'version': 7,\n",
       "   'type': 1,\n",
       "   'value': [{'version': 7, 'type': 4, 'value': 252705618},\n",
       "    {'version': 1,\n",
       "     'type': 6,\n",
       "     'value': [{'version': 5, 'type': 4, 'value': 13},\n",
       "      {'version': 4, 'type': 4, 'value': 6457440}]}]},\n",
       "  {'version': 6, 'type': 4, 'value': 490866},\n",
       "  {'version': 7,\n",
       "   'type': 1,\n",
       "   'value': [{'version': 1,\n",
       "     'type': 6,\n",
       "     'value': [{'version': 1,\n",
       "       'type': 0,\n",
       "       'value': [{'version': 4, 'type': 4, 'value': 12},\n",
       "        {'version': 1, 'type': 4, 'value': 11},\n",
       "        {'version': 2, 'type': 4, 'value': 11}]},\n",
       "      {'version': 3,\n",
       "       'type': 0,\n",
       "       'value': [{'version': 6, 'type': 4, 'value': 9},\n",
       "        {'version': 1, 'type': 4, 'value': 14},\n",
       "        {'version': 1, 'type': 4, 'value': 5}]}]},\n",
       "    {'version': 0, 'type': 4, 'value': 61333}]},\n",
       "  {'version': 3,\n",
       "   'type': 1,\n",
       "   'value': [{'version': 6, 'type': 4, 'value': 227},\n",
       "    {'version': 2, 'type': 4, 'value': 72},\n",
       "    {'version': 0, 'type': 4, 'value': 251}]},\n",
       "  {'version': 5,\n",
       "   'type': 2,\n",
       "   'value': [{'version': 0, 'type': 4, 'value': 160},\n",
       "    {'version': 4, 'type': 4, 'value': 2},\n",
       "    {'version': 0, 'type': 4, 'value': 236045},\n",
       "    {'version': 2, 'type': 4, 'value': 697477}]},\n",
       "  {'version': 3, 'type': 4, 'value': 125},\n",
       "  {'version': 1, 'type': 4, 'value': 141},\n",
       "  {'version': 4, 'type': 4, 'value': 417},\n",
       "  {'version': 4, 'type': 4, 'value': 1705},\n",
       "  {'version': 0,\n",
       "   'type': 1,\n",
       "   'value': [{'version': 2, 'type': 4, 'value': 187},\n",
       "    {'version': 7,\n",
       "     'type': 6,\n",
       "     'value': [{'version': 4, 'type': 4, 'value': 151},\n",
       "      {'version': 4, 'type': 4, 'value': 3306291123429}]}]},\n",
       "  {'version': 0,\n",
       "   'type': 2,\n",
       "   'value': [{'version': 7, 'type': 4, 'value': 6767147},\n",
       "    {'version': 5, 'type': 4, 'value': 190},\n",
       "    {'version': 0, 'type': 4, 'value': 185675},\n",
       "    {'version': 0, 'type': 4, 'value': 724935},\n",
       "    {'version': 3, 'type': 4, 'value': 4236193}]},\n",
       "  {'version': 5,\n",
       "   'type': 1,\n",
       "   'value': [{'version': 2, 'type': 4, 'value': 3765},\n",
       "    {'version': 4,\n",
       "     'type': 6,\n",
       "     'value': [{'version': 6, 'type': 4, 'value': 114},\n",
       "      {'version': 5, 'type': 4, 'value': 83}]}]},\n",
       "  {'version': 3,\n",
       "   'type': 1,\n",
       "   'value': [{'version': 7,\n",
       "     'type': 6,\n",
       "     'value': [{'version': 5, 'type': 4, 'value': 29266},\n",
       "      {'version': 3, 'type': 4, 'value': 29266}]},\n",
       "    {'version': 4, 'type': 4, 'value': 253}]},\n",
       "  {'version': 2,\n",
       "   'type': 1,\n",
       "   'value': [{'version': 4, 'type': 4, 'value': 1240},\n",
       "    {'version': 6,\n",
       "     'type': 5,\n",
       "     'value': [{'version': 6,\n",
       "       'type': 0,\n",
       "       'value': [{'version': 7, 'type': 4, 'value': 6},\n",
       "        {'version': 1, 'type': 4, 'value': 12},\n",
       "        {'version': 1, 'type': 4, 'value': 13}]},\n",
       "      {'version': 6,\n",
       "       'type': 0,\n",
       "       'value': [{'version': 2, 'type': 4, 'value': 9},\n",
       "        {'version': 4, 'type': 4, 'value': 6},\n",
       "        {'version': 3, 'type': 4, 'value': 2}]}]}]},\n",
       "  {'version': 1,\n",
       "   'type': 1,\n",
       "   'value': [{'version': 5,\n",
       "     'type': 5,\n",
       "     'value': [{'version': 0, 'type': 4, 'value': 2558},\n",
       "      {'version': 7, 'type': 4, 'value': 51269}]},\n",
       "    {'version': 0, 'type': 4, 'value': 3}]}]}"
      ]
     },
     "metadata": {},
     "output_type": "display_data"
    }
   ],
   "source": [
    "version_sum, result = solve_part1(puzzle.input_data.strip())\n",
    "print(f\"{version_sum = }\")\n",
    "display(result)"
   ]
  },
  {
   "cell_type": "code",
   "execution_count": 17,
   "id": "eb7cbe1c",
   "metadata": {},
   "outputs": [],
   "source": [
    "puzzle.answer_a = version_sum"
   ]
  },
  {
   "cell_type": "markdown",
   "id": "2628ea09",
   "metadata": {},
   "source": [
    "# Part 2"
   ]
  },
  {
   "cell_type": "code",
   "execution_count": 18,
   "id": "098067a9",
   "metadata": {},
   "outputs": [],
   "source": [
    "def process_packet(packet):\n",
    "    if packet['type'] == 0:\n",
    "        return sum(process_packet(x) for x in packet['value'])\n",
    "    elif packet['type'] == 1:\n",
    "        return math.prod(process_packet(x) for x in packet['value'])\n",
    "    elif packet['type'] == 2:\n",
    "        return min(process_packet(x) for x in packet['value'])\n",
    "    elif packet['type'] == 3:\n",
    "        return max(process_packet(x) for x in packet['value'])\n",
    "    elif packet['type'] == 4:\n",
    "        return packet['value']\n",
    "    elif packet['type'] == 5:\n",
    "        packet1, packet2 = packet['value']\n",
    "        return process_packet(packet1) > process_packet(packet2)\n",
    "    elif packet['type'] == 6:\n",
    "        packet1, packet2 = packet['value']\n",
    "        return process_packet(packet1) < process_packet(packet2)\n",
    "    elif packet['type'] == 7:\n",
    "        packet1, packet2 = packet['value']\n",
    "        return process_packet(packet1) == process_packet(packet2)\n",
    "    "
   ]
  },
  {
   "cell_type": "code",
   "execution_count": 19,
   "id": "ac79dadf",
   "metadata": {},
   "outputs": [
    {
     "data": {
      "text/plain": [
       "158135423448"
      ]
     },
     "execution_count": 19,
     "metadata": {},
     "output_type": "execute_result"
    }
   ],
   "source": [
    "value = process_packet(result)\n",
    "value"
   ]
  },
  {
   "cell_type": "code",
   "execution_count": 20,
   "id": "1b242738",
   "metadata": {},
   "outputs": [],
   "source": [
    "puzzle.answer_b = value"
   ]
  },
  {
   "cell_type": "code",
   "execution_count": null,
   "id": "201ba4ba",
   "metadata": {},
   "outputs": [],
   "source": []
  },
  {
   "cell_type": "code",
   "execution_count": null,
   "id": "22d96be1",
   "metadata": {},
   "outputs": [],
   "source": []
  }
 ],
 "metadata": {
  "kernelspec": {
   "display_name": "Python 3 (ipykernel)",
   "language": "python",
   "name": "python3"
  },
  "language_info": {
   "codemirror_mode": {
    "name": "ipython",
    "version": 3
   },
   "file_extension": ".py",
   "mimetype": "text/x-python",
   "name": "python",
   "nbconvert_exporter": "python",
   "pygments_lexer": "ipython3",
   "version": "3.9.7"
  }
 },
 "nbformat": 4,
 "nbformat_minor": 5
}
