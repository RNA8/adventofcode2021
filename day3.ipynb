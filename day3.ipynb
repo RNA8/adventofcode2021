{
 "cells": [
  {
   "cell_type": "code",
   "execution_count": 1,
   "id": "80ac805c",
   "metadata": {},
   "outputs": [],
   "source": [
    "import os\n",
    "import numpy as np\n",
    "import aocd\n",
    "from aocd.models import Puzzle\n",
    "from aocd import submit"
   ]
  },
  {
   "cell_type": "code",
   "execution_count": 2,
   "id": "ca698f8a",
   "metadata": {},
   "outputs": [
    {
     "data": {
      "text/plain": [
       "<Puzzle(2021, 3) at 0x7fa2806cd4c0 - Binary Diagnostic>"
      ]
     },
     "execution_count": 2,
     "metadata": {},
     "output_type": "execute_result"
    }
   ],
   "source": [
    "current_day = 3\n",
    "current_year = 2021\n",
    "puzzle = Puzzle(year=current_year, day=current_day)\n",
    "puzzle"
   ]
  },
  {
   "cell_type": "markdown",
   "id": "a4447e93",
   "metadata": {},
   "source": [
    "# Part 1"
   ]
  },
  {
   "cell_type": "code",
   "execution_count": 3,
   "id": "3f346b10",
   "metadata": {},
   "outputs": [],
   "source": [
    "data = puzzle.input_data.splitlines()\n",
    "counts = [0]*len(data[0])\n",
    "for line in data:\n",
    "    for i,char in enumerate(line):\n",
    "        if char == '1':\n",
    "            counts[i] += 1\n",
    "        else:\n",
    "            counts[i] -= 1\n"
   ]
  },
  {
   "cell_type": "code",
   "execution_count": 4,
   "id": "e375f9b7",
   "metadata": {},
   "outputs": [],
   "source": [
    "gamma = int(''.join('1' if x>0 else '0' for x in counts),2)\n",
    "epsilon = int(''.join('1' if x<0 else '0' for x in counts),2)"
   ]
  },
  {
   "cell_type": "code",
   "execution_count": 5,
   "id": "eb7cbe1c",
   "metadata": {},
   "outputs": [
    {
     "name": "stdout",
     "output_type": "stream",
     "text": [
      "gamma * epsilon = 4174964\n"
     ]
    }
   ],
   "source": [
    "print(f\"{gamma * epsilon = }\")\n",
    "puzzle.answer_a = gamma*epsilon"
   ]
  },
  {
   "cell_type": "markdown",
   "id": "2628ea09",
   "metadata": {},
   "source": [
    "# Part 2"
   ]
  },
  {
   "cell_type": "code",
   "execution_count": 6,
   "id": "26baceda",
   "metadata": {},
   "outputs": [
    {
     "data": {
      "text/plain": [
       "1371"
      ]
     },
     "execution_count": 6,
     "metadata": {},
     "output_type": "execute_result"
    }
   ],
   "source": [
    "data = 1*(np.array([list(x) for x in puzzle.input_data.splitlines()]) == '1')\n",
    "data.shape\n",
    "\n",
    "m,n = data.shape\n",
    "for col in range(n):\n",
    "    num_ones = np.count_nonzero(data[:,col])\n",
    "    num_zeros = data.shape[0] - num_ones\n",
    "    if num_ones >= num_zeros:\n",
    "        retain = data[:,col] == 1\n",
    "    else:\n",
    "        retain = data[:,col] == 0\n",
    "    data = data[retain,:]\n",
    "    if data.shape[0] == 1:\n",
    "        break\n",
    "oxygen_generator_rating = int(''.join(map(str,list(data[0]))),2)\n",
    "oxygen_generator_rating"
   ]
  },
  {
   "cell_type": "code",
   "execution_count": 7,
   "id": "ac79dadf",
   "metadata": {},
   "outputs": [
    {
     "data": {
      "text/plain": [
       "3264"
      ]
     },
     "execution_count": 7,
     "metadata": {},
     "output_type": "execute_result"
    }
   ],
   "source": [
    "data = 1*(np.array([list(x) for x in puzzle.input_data.splitlines()]) == '1')\n",
    "m,n = data.shape\n",
    "for col in range(n):\n",
    "    num_ones = np.count_nonzero(data[:,col])\n",
    "    num_zeros = data.shape[0] - num_ones\n",
    "    if num_ones < num_zeros:\n",
    "        retain = data[:,col] == 1\n",
    "    else:\n",
    "        retain = data[:,col] == 0\n",
    "    data = data[retain,:]\n",
    "    if data.shape[0] == 1:\n",
    "        break\n",
    "        \n",
    "co2_scrubber_rating = int(''.join(map(str,list(data[0]))),2)\n",
    "co2_scrubber_rating\n"
   ]
  },
  {
   "cell_type": "code",
   "execution_count": 8,
   "id": "1b242738",
   "metadata": {},
   "outputs": [
    {
     "name": "stdout",
     "output_type": "stream",
     "text": [
      "oxygen_generator_rating * co2_scrubber_rating = 4474944\n"
     ]
    }
   ],
   "source": [
    "print(f\"{oxygen_generator_rating * co2_scrubber_rating = }\")\n",
    "puzzle.answer_b = oxygen_generator_rating*co2_scrubber_rating"
   ]
  },
  {
   "cell_type": "code",
   "execution_count": null,
   "id": "644c76fe",
   "metadata": {},
   "outputs": [],
   "source": []
  }
 ],
 "metadata": {
  "kernelspec": {
   "display_name": "Python 3 (ipykernel)",
   "language": "python",
   "name": "python3"
  },
  "language_info": {
   "codemirror_mode": {
    "name": "ipython",
    "version": 3
   },
   "file_extension": ".py",
   "mimetype": "text/x-python",
   "name": "python",
   "nbconvert_exporter": "python",
   "pygments_lexer": "ipython3",
   "version": "3.9.7"
  }
 },
 "nbformat": 4,
 "nbformat_minor": 5
}
