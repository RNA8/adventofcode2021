{
 "cells": [
  {
   "cell_type": "code",
   "execution_count": 1,
   "id": "80ac805c",
   "metadata": {},
   "outputs": [],
   "source": [
    "import os\n",
    "import numpy as np\n",
    "import aocd\n",
    "from aocd.models import Puzzle\n",
    "from aocd import submit"
   ]
  },
  {
   "cell_type": "code",
   "execution_count": 2,
   "id": "ca698f8a",
   "metadata": {},
   "outputs": [
    {
     "data": {
      "text/plain": [
       "<Puzzle(2021, 2) at 0x7fd3fc5d1250 - Dive!>"
      ]
     },
     "execution_count": 2,
     "metadata": {},
     "output_type": "execute_result"
    }
   ],
   "source": [
    "current_day = 2\n",
    "current_year = 2021\n",
    "puzzle = Puzzle(year=current_year, day=current_day)\n",
    "puzzle"
   ]
  },
  {
   "cell_type": "markdown",
   "id": "a4447e93",
   "metadata": {},
   "source": [
    "# Part 1"
   ]
  },
  {
   "cell_type": "code",
   "execution_count": 5,
   "id": "4d5a1bcf",
   "metadata": {},
   "outputs": [],
   "source": [
    "data = puzzle.input_data.splitlines()"
   ]
  },
  {
   "cell_type": "code",
   "execution_count": 6,
   "id": "358c7128",
   "metadata": {},
   "outputs": [
    {
     "data": {
      "text/plain": [
       "['forward 1',\n",
       " 'down 6',\n",
       " 'down 6',\n",
       " 'forward 2',\n",
       " 'forward 2',\n",
       " 'down 2',\n",
       " 'down 1',\n",
       " 'down 5',\n",
       " 'down 7',\n",
       " 'down 3']"
      ]
     },
     "execution_count": 6,
     "metadata": {},
     "output_type": "execute_result"
    }
   ],
   "source": [
    "data[:10]"
   ]
  },
  {
   "cell_type": "code",
   "execution_count": 7,
   "id": "3f346b10",
   "metadata": {},
   "outputs": [],
   "source": [
    "x,y = 0,0"
   ]
  },
  {
   "cell_type": "code",
   "execution_count": 8,
   "id": "277d9fe0",
   "metadata": {},
   "outputs": [],
   "source": [
    "for line in data:\n",
    "    dirn, steps = line.split()\n",
    "    steps = int(steps)\n",
    "    if dirn == 'forward':\n",
    "        x += steps\n",
    "    elif dirn == 'up':\n",
    "        y -= steps\n",
    "    elif dirn == 'down':\n",
    "        y += steps"
   ]
  },
  {
   "cell_type": "code",
   "execution_count": 9,
   "id": "e375f9b7",
   "metadata": {},
   "outputs": [
    {
     "data": {
      "text/plain": [
       "(1790, 1222)"
      ]
     },
     "execution_count": 9,
     "metadata": {},
     "output_type": "execute_result"
    }
   ],
   "source": [
    "x,y"
   ]
  },
  {
   "cell_type": "code",
   "execution_count": null,
   "id": "797da313",
   "metadata": {},
   "outputs": [],
   "source": []
  },
  {
   "cell_type": "code",
   "execution_count": 10,
   "id": "eb7cbe1c",
   "metadata": {},
   "outputs": [
    {
     "name": "stdout",
     "output_type": "stream",
     "text": [
      "\u001b[32mThat's the right answer!  You are one gold star closer to finding the sleigh keys. You got rank 242 on this star's leaderboard. [Continue to Part Two]\u001b[0m\n"
     ]
    }
   ],
   "source": [
    "puzzle.answer_a = x*y"
   ]
  },
  {
   "cell_type": "markdown",
   "id": "2628ea09",
   "metadata": {},
   "source": [
    "# Part 2"
   ]
  },
  {
   "cell_type": "code",
   "execution_count": 12,
   "id": "525b0055",
   "metadata": {},
   "outputs": [],
   "source": [
    "x,y,slope = 0,0,0"
   ]
  },
  {
   "cell_type": "code",
   "execution_count": 13,
   "id": "c9707330",
   "metadata": {},
   "outputs": [],
   "source": [
    "for line in data:\n",
    "    dirn, steps = line.split()\n",
    "    steps = int(steps)\n",
    "    if dirn == 'forward':\n",
    "        x += steps\n",
    "        y += slope*steps\n",
    "    elif dirn == 'up':\n",
    "        slope -= steps\n",
    "    elif dirn == 'down':\n",
    "        slope += steps"
   ]
  },
  {
   "cell_type": "code",
   "execution_count": 14,
   "id": "ac79dadf",
   "metadata": {},
   "outputs": [
    {
     "data": {
      "text/plain": [
       "(1790, 1165563)"
      ]
     },
     "execution_count": 14,
     "metadata": {},
     "output_type": "execute_result"
    }
   ],
   "source": [
    "x,y"
   ]
  },
  {
   "cell_type": "code",
   "execution_count": 15,
   "id": "1b242738",
   "metadata": {},
   "outputs": [
    {
     "name": "stdout",
     "output_type": "stream",
     "text": [
      "\u001b[32mThat's the right answer!  You are one gold star closer to finding the sleigh keys. You got rank 342 on this star's leaderboard.You have completed Day 2! You can [Shareon\n",
      "  Twitter\n",
      "Mastodon] this victory or [Return to Your Advent Calendar].\u001b[0m\n"
     ]
    }
   ],
   "source": [
    "puzzle.answer_b = x*y"
   ]
  },
  {
   "cell_type": "code",
   "execution_count": null,
   "id": "2ac62cce",
   "metadata": {},
   "outputs": [],
   "source": []
  }
 ],
 "metadata": {
  "kernelspec": {
   "display_name": "Python 3",
   "language": "python",
   "name": "python3"
  },
  "language_info": {
   "codemirror_mode": {
    "name": "ipython",
    "version": 3
   },
   "file_extension": ".py",
   "mimetype": "text/x-python",
   "name": "python",
   "nbconvert_exporter": "python",
   "pygments_lexer": "ipython3",
   "version": "3.8.8"
  }
 },
 "nbformat": 4,
 "nbformat_minor": 5
}
