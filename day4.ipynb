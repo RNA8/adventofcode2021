{
 "cells": [
  {
   "cell_type": "code",
   "execution_count": 1,
   "id": "80ac805c",
   "metadata": {},
   "outputs": [],
   "source": [
    "import os\n",
    "import numpy as np\n",
    "import aocd\n",
    "from aocd.models import Puzzle\n",
    "from aocd import submit"
   ]
  },
  {
   "cell_type": "code",
   "execution_count": 2,
   "id": "ca698f8a",
   "metadata": {},
   "outputs": [
    {
     "data": {
      "text/plain": [
       "<Puzzle(2021, 4) at 0x7f990870ee50 - Giant Squid>"
      ]
     },
     "execution_count": 2,
     "metadata": {},
     "output_type": "execute_result"
    }
   ],
   "source": [
    "current_day = 4\n",
    "current_year = 2021\n",
    "puzzle = Puzzle(year=current_year, day=current_day)\n",
    "puzzle"
   ]
  },
  {
   "cell_type": "markdown",
   "id": "a4447e93",
   "metadata": {},
   "source": [
    "# Part 1"
   ]
  },
  {
   "cell_type": "code",
   "execution_count": 54,
   "id": "795b9e96",
   "metadata": {},
   "outputs": [],
   "source": [
    "def is_bingo(board):\n",
    "    return any(all(board[i]<0) for i in range(5)) or any(all(board[:,i]<0) for i in range(5))"
   ]
  },
  {
   "cell_type": "code",
   "execution_count": 55,
   "id": "3f346b10",
   "metadata": {},
   "outputs": [
    {
     "name": "stdout",
     "output_type": "stream",
     "text": [
      "answer = 8136\n"
     ]
    }
   ],
   "source": [
    "drawn_numbers, *boards = puzzle.input_data.split('\\n\\n')\n",
    "drawn_numbers = np.int32(drawn_numbers.split(','))\n",
    "boards = [np.int32(board.split()).reshape((5,5)) for board in boards]\n",
    "\n",
    "answer = None\n",
    "for num in drawn_numbers:\n",
    "    for board in boards:\n",
    "        if np.any(board==num):\n",
    "            board[board==num] = -1\n",
    "            if is_bingo(board):\n",
    "                answer = num * np.sum(board[board >= 0])\n",
    "                print(f\"{answer = }\")\n",
    "                break\n",
    "    if answer:\n",
    "        break"
   ]
  },
  {
   "cell_type": "code",
   "execution_count": 56,
   "id": "eb7cbe1c",
   "metadata": {},
   "outputs": [],
   "source": [
    "puzzle.answer_a = 8136"
   ]
  },
  {
   "cell_type": "markdown",
   "id": "2628ea09",
   "metadata": {},
   "source": [
    "# Part 2"
   ]
  },
  {
   "cell_type": "code",
   "execution_count": 62,
   "id": "525b0055",
   "metadata": {},
   "outputs": [
    {
     "data": {
      "text/plain": [
       "(100, 12738)"
      ]
     },
     "execution_count": 62,
     "metadata": {},
     "output_type": "execute_result"
    }
   ],
   "source": [
    "drawn_numbers, *boards = puzzle.input_data.split('\\n\\n')\n",
    "drawn_numbers = np.int32(drawn_numbers.split(','))\n",
    "boards = [np.int32(board.split()).reshape((5,5)) for board in boards]\n",
    "\n",
    "winning_board_answers = []\n",
    "board_still_in_play = [1]*len(boards)\n",
    "for num in drawn_numbers:\n",
    "    for i,board in enumerate(boards):\n",
    "        if board_still_in_play[i] and np.any(board==num):\n",
    "            board[board==num] = -1\n",
    "            if is_bingo(board):\n",
    "                winning_board_answers.append(num * np.sum(board[board >= 0]))\n",
    "                board_still_in_play[i] = 0\n",
    "len(winning_board_answers), winning_board_answers[-1]"
   ]
  },
  {
   "cell_type": "code",
   "execution_count": 63,
   "id": "1b242738",
   "metadata": {},
   "outputs": [
    {
     "name": "stdout",
     "output_type": "stream",
     "text": [
      "\u001b[32mThat's the right answer!  You are one gold star closer to finding the sleigh keys.You have completed Day 4! You can [Shareon\n",
      "  Twitter\n",
      "Mastodon] this victory or [Return to Your Advent Calendar].\u001b[0m\n"
     ]
    }
   ],
   "source": [
    "puzzle.answer_b = 12738"
   ]
  },
  {
   "cell_type": "code",
   "execution_count": null,
   "id": "0916b855",
   "metadata": {},
   "outputs": [],
   "source": []
  }
 ],
 "metadata": {
  "kernelspec": {
   "display_name": "Python 3 (ipykernel)",
   "language": "python",
   "name": "python3"
  },
  "language_info": {
   "codemirror_mode": {
    "name": "ipython",
    "version": 3
   },
   "file_extension": ".py",
   "mimetype": "text/x-python",
   "name": "python",
   "nbconvert_exporter": "python",
   "pygments_lexer": "ipython3",
   "version": "3.9.7"
  }
 },
 "nbformat": 4,
 "nbformat_minor": 5
}
